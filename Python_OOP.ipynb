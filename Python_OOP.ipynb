{
  "nbformat": 4,
  "nbformat_minor": 0,
  "metadata": {
    "colab": {
      "provenance": []
    },
    "kernelspec": {
      "name": "python3",
      "display_name": "Python 3"
    },
    "language_info": {
      "name": "python"
    }
  },
  "cells": [
    {
      "cell_type": "markdown",
      "source": [
        "# Classes and Objects"
      ],
      "metadata": {
        "id": "LiHYSZ4KBpYD"
      }
    },
    {
      "cell_type": "code",
      "execution_count": null,
      "metadata": {
        "id": "09ZWqR48v3L5"
      },
      "outputs": [],
      "source": [
        "# class\n",
        "class Human:\n",
        "\n",
        "  # Attributes\n",
        "  Name = None\n",
        "  Age = None\n",
        "  Weight = None\n",
        "  Height = None\n",
        "\n",
        "  # Methods\n",
        "  def Sleep(self): # self is used to initialize the class itself\n",
        "  # This will help to access the attributes of a class\n",
        "    print(self.Name + ' is Sleeping')\n",
        "\n",
        "# Object\n",
        "person = Human()\n",
        "\n",
        "person.Name = 'Abi'\n",
        "person.Age = 23\n",
        "person.Weight = 74\n",
        "person.Height = 178"
      ]
    },
    {
      "cell_type": "code",
      "source": [
        "print(person.Height)\n",
        "print(person.Weight)"
      ],
      "metadata": {
        "colab": {
          "base_uri": "https://localhost:8080/"
        },
        "id": "ftfvuz0uwWKS",
        "outputId": "e3905c2d-8bb2-4b16-83de-2248f0a97044"
      },
      "execution_count": null,
      "outputs": [
        {
          "output_type": "stream",
          "name": "stdout",
          "text": [
            "178\n",
            "74\n"
          ]
        }
      ]
    },
    {
      "cell_type": "code",
      "source": [
        "person2 = Human()\n",
        "person2.Name = 'Dolu'\n",
        "person2.Age = 5\n",
        "person2.Weight = 25\n",
        "person2.Height = 84"
      ],
      "metadata": {
        "id": "S2EqNFqGwq3P"
      },
      "execution_count": null,
      "outputs": []
    },
    {
      "cell_type": "code",
      "source": [
        "person2.Height"
      ],
      "metadata": {
        "colab": {
          "base_uri": "https://localhost:8080/"
        },
        "id": "ebX7D-d6x3jO",
        "outputId": "747f37e6-3a14-48ad-8586-d5506edf2c36"
      },
      "execution_count": null,
      "outputs": [
        {
          "output_type": "execute_result",
          "data": {
            "text/plain": [
              "84"
            ]
          },
          "metadata": {},
          "execution_count": 4
        }
      ]
    },
    {
      "cell_type": "code",
      "source": [
        "print(person2.Sleep())"
      ],
      "metadata": {
        "colab": {
          "base_uri": "https://localhost:8080/"
        },
        "id": "9T_qY-b2x6FI",
        "outputId": "ef1a556d-986e-4bf6-b4ce-4388b9f10f96"
      },
      "execution_count": null,
      "outputs": [
        {
          "output_type": "stream",
          "name": "stdout",
          "text": [
            "Dolu is Sleeping\n",
            "None\n"
          ]
        }
      ]
    },
    {
      "cell_type": "code",
      "source": [
        "# class\n",
        "class Human1:\n",
        "  pass\n",
        "\n",
        "person3 = Human1()"
      ],
      "metadata": {
        "id": "ZwU1x2eJzKGt"
      },
      "execution_count": null,
      "outputs": []
    },
    {
      "cell_type": "code",
      "source": [
        "person3.Age = 25"
      ],
      "metadata": {
        "id": "y54XSbJp_9kO"
      },
      "execution_count": null,
      "outputs": []
    },
    {
      "cell_type": "code",
      "source": [
        "print(person3.Age)"
      ],
      "metadata": {
        "colab": {
          "base_uri": "https://localhost:8080/"
        },
        "id": "PePBDnJ9AB5h",
        "outputId": "2604f86e-9cc1-448e-a495-992c557f5191"
      },
      "execution_count": null,
      "outputs": [
        {
          "output_type": "stream",
          "name": "stdout",
          "text": [
            "25\n"
          ]
        }
      ]
    },
    {
      "cell_type": "code",
      "source": [
        "class student:\n",
        "  tamil = None\n",
        "  English = None\n",
        "  math = None\n",
        "  science = None\n",
        "\n",
        "  def total(self):\n",
        "    print('Total is', self.tamil+self.English+self.math+self.science)"
      ],
      "metadata": {
        "id": "pfOQR19fptWG"
      },
      "execution_count": null,
      "outputs": []
    },
    {
      "cell_type": "code",
      "source": [
        "student1 = student()\n",
        "student1.tamil =90\n",
        "student1.English =86\n",
        "student1.math =97\n",
        "student1.science = 92\n",
        "\n",
        "print(student1.total())"
      ],
      "metadata": {
        "colab": {
          "base_uri": "https://localhost:8080/"
        },
        "id": "7QCzc-KdqiYl",
        "outputId": "e073c060-89e4-4f45-f726-6d11897f8c9d"
      },
      "execution_count": null,
      "outputs": [
        {
          "output_type": "stream",
          "name": "stdout",
          "text": [
            "Total is 365\n",
            "None\n"
          ]
        }
      ]
    },
    {
      "cell_type": "code",
      "source": [
        "student1.total()"
      ],
      "metadata": {
        "colab": {
          "base_uri": "https://localhost:8080/"
        },
        "id": "07s5uUZ2rM71",
        "outputId": "325e285f-ac58-422e-c7f6-9680e1064205"
      },
      "execution_count": null,
      "outputs": [
        {
          "output_type": "stream",
          "name": "stdout",
          "text": [
            "Total is 365\n"
          ]
        }
      ]
    },
    {
      "cell_type": "code",
      "source": [
        "print(person3.Sleep())"
      ],
      "metadata": {
        "colab": {
          "base_uri": "https://localhost:8080/",
          "height": 141
        },
        "id": "m7_HItgRAI0I",
        "outputId": "2a044edd-4919-4cd9-abbd-c9ac15307d7b"
      },
      "execution_count": null,
      "outputs": [
        {
          "output_type": "error",
          "ename": "AttributeError",
          "evalue": "'Human1' object has no attribute 'Sleep'",
          "traceback": [
            "\u001b[0;31m---------------------------------------------------------------------------\u001b[0m",
            "\u001b[0;31mAttributeError\u001b[0m                            Traceback (most recent call last)",
            "\u001b[0;32m<ipython-input-9-794ccfc55802>\u001b[0m in \u001b[0;36m<cell line: 0>\u001b[0;34m()\u001b[0m\n\u001b[0;32m----> 1\u001b[0;31m \u001b[0mprint\u001b[0m\u001b[0;34m(\u001b[0m\u001b[0mperson3\u001b[0m\u001b[0;34m.\u001b[0m\u001b[0mSleep\u001b[0m\u001b[0;34m(\u001b[0m\u001b[0;34m)\u001b[0m\u001b[0;34m)\u001b[0m\u001b[0;34m\u001b[0m\u001b[0;34m\u001b[0m\u001b[0m\n\u001b[0m",
            "\u001b[0;31mAttributeError\u001b[0m: 'Human1' object has no attribute 'Sleep'"
          ]
        }
      ]
    },
    {
      "cell_type": "markdown",
      "source": [
        "#### if there is no attributed is there in a class and an object is created with that class we can still give values for attributes with the created object but we cannot do the same for methods"
      ],
      "metadata": {
        "id": "SNCvPvwSAMsg"
      }
    },
    {
      "cell_type": "markdown",
      "source": [
        "# Constructor"
      ],
      "metadata": {
        "id": "nlpG8W8GCid1"
      }
    },
    {
      "cell_type": "code",
      "source": [
        "class person():\n",
        "\n",
        "  def __init__(self,Name,age):\n",
        "    self.Name = Name\n",
        "    self.age = age\n",
        "    print('constructor is invoked')\n",
        "\n",
        "p1 = person('abi',23)"
      ],
      "metadata": {
        "colab": {
          "base_uri": "https://localhost:8080/"
        },
        "id": "QAk9xACVALRR",
        "outputId": "640d28b3-0ee5-4d00-e0f7-d0b7dd33a65b"
      },
      "execution_count": null,
      "outputs": [
        {
          "output_type": "stream",
          "name": "stdout",
          "text": [
            "constructor is invoked\n"
          ]
        }
      ]
    },
    {
      "cell_type": "markdown",
      "source": [
        "#### constructor is invoked automatically when an object is called"
      ],
      "metadata": {
        "id": "hLHuiDAWnewz"
      }
    },
    {
      "cell_type": "code",
      "source": [
        "p1.Name"
      ],
      "metadata": {
        "colab": {
          "base_uri": "https://localhost:8080/",
          "height": 35
        },
        "id": "ErZf51-K-iSf",
        "outputId": "8c44561b-6025-4a6f-f954-252e8840c7f0"
      },
      "execution_count": null,
      "outputs": [
        {
          "output_type": "execute_result",
          "data": {
            "text/plain": [
              "'abi'"
            ],
            "application/vnd.google.colaboratory.intrinsic+json": {
              "type": "string"
            }
          },
          "metadata": {},
          "execution_count": 3
        }
      ]
    },
    {
      "cell_type": "code",
      "source": [
        "class person1():\n",
        "\n",
        "  def __init__(self,Name= None,age=None):\n",
        "    self.Name = Name\n",
        "    self.age = age\n",
        "    print('constructor is invoked')"
      ],
      "metadata": {
        "id": "jV437OKI-uc4"
      },
      "execution_count": null,
      "outputs": []
    },
    {
      "cell_type": "code",
      "source": [
        "p2 = person1()"
      ],
      "metadata": {
        "colab": {
          "base_uri": "https://localhost:8080/"
        },
        "id": "N-8XcAv79Jty",
        "outputId": "8438d7ac-a9df-4725-aaf6-51c611209cc1"
      },
      "execution_count": null,
      "outputs": [
        {
          "output_type": "stream",
          "name": "stdout",
          "text": [
            "constructor is invoked\n"
          ]
        }
      ]
    },
    {
      "cell_type": "markdown",
      "source": [
        "### If none as value is given to an attribute in a constructor we can create an object without providing arguments\n",
        "else we need to create object in this way p2 = person1('name',age)"
      ],
      "metadata": {
        "id": "3OOEhxvAoofS"
      }
    },
    {
      "cell_type": "code",
      "source": [
        "class Student:\n",
        "\n",
        "  def __init__(self,Tamil,Math,English,Science):\n",
        "    self.Tamil = Tamil\n",
        "    self.Math = Math\n",
        "    self.English = English\n",
        "    self.Science = Science\n",
        "\n",
        "  def Total(self):\n",
        "    Total = self.Tamil+self.English+self.Math+self.Science\n",
        "    print(f\"The Total marks secured is : {Total}\")"
      ],
      "metadata": {
        "id": "tD1iobnroLk1"
      },
      "execution_count": null,
      "outputs": []
    },
    {
      "cell_type": "code",
      "source": [
        "Student1 = Student(98,78,89,67)"
      ],
      "metadata": {
        "id": "Vi6EW8Iy9eeV"
      },
      "execution_count": null,
      "outputs": []
    },
    {
      "cell_type": "code",
      "source": [
        "Student1.Total()"
      ],
      "metadata": {
        "colab": {
          "base_uri": "https://localhost:8080/"
        },
        "id": "Gn-wFYaXpzvy",
        "outputId": "b956bf54-e975-4061-e295-220694564560"
      },
      "execution_count": null,
      "outputs": [
        {
          "output_type": "stream",
          "name": "stdout",
          "text": [
            "The Total marks secured is : 332\n"
          ]
        }
      ]
    },
    {
      "cell_type": "markdown",
      "source": [
        "# Static Methods and Static Variables"
      ],
      "metadata": {
        "id": "l21pNZpDqkZm"
      }
    },
    {
      "cell_type": "code",
      "source": [
        "class dog:\n",
        "  species = 'foreign species' # Static Variable (cannot be changed)\n",
        "\n",
        "  def __init__(self, name ,breed):\n",
        "    self.name = name  # Instance variable (value is given when creating an object)\n",
        "    self.breed = breed\n",
        "\n",
        "  def dogintro(self):\n",
        "    print(f\"The name of the dog is {self.name} and the breed is {self.breed} and the species is {dog.species}\") # static variable is alled using cls_name.var_name"
      ],
      "metadata": {
        "id": "DgfO8X28p31H"
      },
      "execution_count": null,
      "outputs": []
    },
    {
      "cell_type": "code",
      "source": [
        "dog1 = dog('kutty', 'domestic')"
      ],
      "metadata": {
        "id": "DncmA6UMuN2z"
      },
      "execution_count": null,
      "outputs": []
    },
    {
      "cell_type": "code",
      "source": [
        "dog1.dogintro()"
      ],
      "metadata": {
        "colab": {
          "base_uri": "https://localhost:8080/"
        },
        "id": "uFlWLrpOL9h2",
        "outputId": "2f0661e2-4930-4bca-c288-0846e268d34b"
      },
      "execution_count": null,
      "outputs": [
        {
          "output_type": "stream",
          "name": "stdout",
          "text": [
            "The name of the dog is kutty and the breed is domestic and the species is foreign species\n"
          ]
        }
      ]
    },
    {
      "cell_type": "code",
      "source": [
        "dog.species  ## Static variable is accessed using this way"
      ],
      "metadata": {
        "colab": {
          "base_uri": "https://localhost:8080/",
          "height": 35
        },
        "id": "rVWY44r7MDJx",
        "outputId": "0d156ae6-1a8c-4c3e-c37c-1ff5557cf4aa"
      },
      "execution_count": null,
      "outputs": [
        {
          "output_type": "execute_result",
          "data": {
            "text/plain": [
              "'foreign species'"
            ],
            "application/vnd.google.colaboratory.intrinsic+json": {
              "type": "string"
            }
          },
          "metadata": {},
          "execution_count": 5
        }
      ]
    },
    {
      "cell_type": "code",
      "source": [
        "dog.species = 'Indian' # modifying static variable"
      ],
      "metadata": {
        "id": "swiY5PAYNGMQ"
      },
      "execution_count": null,
      "outputs": []
    },
    {
      "cell_type": "code",
      "source": [
        "dog2 = dog('rambo', 'pomerian')"
      ],
      "metadata": {
        "id": "ye_ah7nCNPee"
      },
      "execution_count": null,
      "outputs": []
    },
    {
      "cell_type": "code",
      "source": [
        "dog2.dogintro()"
      ],
      "metadata": {
        "colab": {
          "base_uri": "https://localhost:8080/"
        },
        "id": "K8VyhG7wNWQp",
        "outputId": "1b08d1f3-ab73-4dfc-c387-a7f84ef6c892"
      },
      "execution_count": null,
      "outputs": [
        {
          "output_type": "stream",
          "name": "stdout",
          "text": [
            "The name of the dog is rambo and the breed is pomerian and the species is Indian\n"
          ]
        }
      ]
    },
    {
      "cell_type": "code",
      "source": [
        "class person:\n",
        "  sleepingtime = 8\n",
        "\n",
        "  def __init__(self,name,age):\n",
        "    self.name = name\n",
        "    self.age = age\n",
        "\n",
        "  @classmethod  # class method using this we can acess class level variables\n",
        "  def sleep(cls): # class methos takes cls as its first parameter\n",
        "    print(f'person is sleeping for {cls.sleepingtime} hours')"
      ],
      "metadata": {
        "id": "5Dn_pkarNX7V"
      },
      "execution_count": null,
      "outputs": []
    },
    {
      "cell_type": "code",
      "source": [
        "p1 = person(\"abi\",23)"
      ],
      "metadata": {
        "id": "LahIkHLYO12w"
      },
      "execution_count": null,
      "outputs": []
    },
    {
      "cell_type": "code",
      "source": [
        "person.sleep()"
      ],
      "metadata": {
        "colab": {
          "base_uri": "https://localhost:8080/"
        },
        "id": "UZjMJV4SO412",
        "outputId": "6fdcfe1d-c06f-4923-ac49-dcbbf05d35de"
      },
      "execution_count": null,
      "outputs": [
        {
          "output_type": "stream",
          "name": "stdout",
          "text": [
            "person is sleeping for 8 hours\n"
          ]
        }
      ]
    },
    {
      "cell_type": "code",
      "source": [
        "class math:\n",
        "\n",
        "  @staticmethod\n",
        "  def add(x,y): # static method won't take self or cls parameter\n",
        "    print(x+y)\n"
      ],
      "metadata": {
        "id": "gPS4h_oBPSin"
      },
      "execution_count": null,
      "outputs": []
    },
    {
      "cell_type": "code",
      "source": [
        "math.add(3,5)"
      ],
      "metadata": {
        "colab": {
          "base_uri": "https://localhost:8080/"
        },
        "id": "S4KK-CTtSQjP",
        "outputId": "c70cd2ae-7111-4a5f-9ce2-0a93b96e8581"
      },
      "execution_count": null,
      "outputs": [
        {
          "output_type": "stream",
          "name": "stdout",
          "text": [
            "8\n"
          ]
        }
      ]
    },
    {
      "cell_type": "markdown",
      "source": [
        "# Inheritance"
      ],
      "metadata": {
        "id": "jRK_Vo8dweJk"
      }
    },
    {
      "cell_type": "code",
      "source": [
        "class parent:  # parent class/ super class/ base class\n",
        "\n",
        "  def __init__(self):\n",
        "    self.networth = 100000\n",
        "\n",
        "  def sing(self):\n",
        "    print(\"parent can able to sing\")\n",
        "\n",
        "class child(parent): # child class/ sub class/ derived class\n",
        "\n",
        "  def dance(self):\n",
        "    print(\"child can able to dance\")\n"
      ],
      "metadata": {
        "id": "YMfvuI6ASSsm"
      },
      "execution_count": null,
      "outputs": []
    },
    {
      "cell_type": "code",
      "source": [
        "child1 = child() # creating an object for child class\n",
        "\n",
        "child1.sing() # child class can able to access methods and attributes of parent class\n",
        "child1.networth"
      ],
      "metadata": {
        "colab": {
          "base_uri": "https://localhost:8080/"
        },
        "id": "bETXWgejwdPX",
        "outputId": "5837dd66-e032-48eb-d11e-1683e9dbed47"
      },
      "execution_count": null,
      "outputs": [
        {
          "output_type": "stream",
          "name": "stdout",
          "text": [
            "parent can able to sing\n"
          ]
        },
        {
          "output_type": "execute_result",
          "data": {
            "text/plain": [
              "100000"
            ]
          },
          "metadata": {},
          "execution_count": 5
        }
      ]
    },
    {
      "cell_type": "markdown",
      "source": [
        "#Types of Inheritance"
      ],
      "metadata": {
        "id": "_Wir15qU0CIq"
      }
    },
    {
      "cell_type": "markdown",
      "source": [
        "## Single Inheritance"
      ],
      "metadata": {
        "id": "31fjpn3qyyQR"
      }
    },
    {
      "cell_type": "code",
      "source": [
        "class Animal: # Parent\n",
        "    def speak(self):\n",
        "        print(\"Generic sound\")\n",
        "\n",
        "class Dog(Animal): # Child inherits from one parent (Animal)\n",
        "    def speak(self): # Overrides parent method\n",
        "        print(\"Woof\")\n",
        "\n",
        "# Usage\n",
        "my_dog = Dog()\n",
        "my_dog.speak() # Output: Woof"
      ],
      "metadata": {
        "colab": {
          "base_uri": "https://localhost:8080/"
        },
        "id": "gDnH4uicwrHl",
        "outputId": "994ce720-566e-4c60-e0f3-acd50b82d923"
      },
      "execution_count": null,
      "outputs": [
        {
          "output_type": "stream",
          "name": "stdout",
          "text": [
            "Woof\n"
          ]
        }
      ]
    },
    {
      "cell_type": "markdown",
      "source": [
        "## Multiple Inheritance"
      ],
      "metadata": {
        "id": "JXkf9cuIy2A9"
      }
    },
    {
      "cell_type": "code",
      "source": [
        "class Animal: # Parent\n",
        "    def speak(self):\n",
        "        print(\"Generic sound\")\n",
        "\n",
        "class Dog(Animal): # Child inherits from one parent (Animal)\n",
        "    def speak(self): # Overrides parent method\n",
        "        print(\"Woof\")\n",
        "\n",
        "# Usage\n",
        "my_dog = Dog()\n",
        "my_dog.speak() # Output: Woof"
      ],
      "metadata": {
        "colab": {
          "base_uri": "https://localhost:8080/"
        },
        "id": "DLJDsZAby03i",
        "outputId": "e5f65275-eda5-4789-bb53-bc5b24146538"
      },
      "execution_count": null,
      "outputs": [
        {
          "output_type": "stream",
          "name": "stdout",
          "text": [
            "Woof\n"
          ]
        }
      ]
    },
    {
      "cell_type": "markdown",
      "source": [
        "## Multi-Level Inheritance"
      ],
      "metadata": {
        "id": "Pf0BsHF6zFJu"
      }
    },
    {
      "cell_type": "code",
      "source": [
        "class Animal: # Grandparent\n",
        "    def __init__(self, name):\n",
        "        self.name = name\n",
        "        print(\"Animal created\")\n",
        "\n",
        "class Mammal(Animal): # Parent inherits from Animal\n",
        "     def __init__(self, name, fur_color):\n",
        "         super().__init__(name) # Call grandparent's init\n",
        "         self.fur_color = fur_color\n",
        "         print(\"Mammal created\")\n",
        "\n",
        "class Dog(Mammal): # Child inherits from Mammal\n",
        "     def __init__(self, name, fur_color, breed):\n",
        "         super().__init__(name, fur_color) # Call parent's init\n",
        "         self.breed = breed\n",
        "         print(\"Dog created\")\n",
        "\n",
        "     def speak(self):\n",
        "         print(\"Woof\")\n",
        "\n",
        "# Usage\n",
        "my_dog = Dog(\"Buddy\", \"Golden\", \"Retriever\")\n",
        "print(my_dog.name)       # Inherited from Animal\n",
        "print(my_dog.fur_color)  # Inherited from Mammal\n",
        "print(my_dog.breed)      # Specific to Dog\n",
        "my_dog.speak()           # Specific to Dog"
      ],
      "metadata": {
        "colab": {
          "base_uri": "https://localhost:8080/"
        },
        "id": "yoxWur1my829",
        "outputId": "adb79975-8be1-4245-a7f7-556e55e05c86"
      },
      "execution_count": null,
      "outputs": [
        {
          "output_type": "stream",
          "name": "stdout",
          "text": [
            "Animal created\n",
            "Mammal created\n",
            "Dog created\n",
            "Buddy\n",
            "Golden\n",
            "Retriever\n",
            "Woof\n"
          ]
        }
      ]
    },
    {
      "cell_type": "markdown",
      "source": [
        "## Hierarchical Inheritance"
      ],
      "metadata": {
        "id": "es2FI8jpzWH4"
      }
    },
    {
      "cell_type": "code",
      "source": [
        "class Vehicle: # Parent\n",
        "    def start(self):\n",
        "        print(\"Engine started\")\n",
        "\n",
        "class Car(Vehicle): # Child 1 inherits from Vehicle\n",
        "    def drive(self):\n",
        "        print(\"Driving car\")\n",
        "\n",
        "class Bicycle(Vehicle): # Child 2 inherits from Vehicle\n",
        "     # Bicycle might override start or not have a start method if it doesn't have an engine\n",
        "     def ride(self):\n",
        "         print(\"Riding bicycle\")\n",
        "\n",
        "class Boat(Vehicle): # Child 3 inherits from Vehicle\n",
        "     def sail(self):\n",
        "         print(\"Sailing boat\")\n",
        "\n",
        "# Usage\n",
        "my_car = Car()\n",
        "my_car.start() # Inherited\n",
        "my_bicycle = Bicycle()\n",
        "# my_bicycle.start() # Maybe not applicable or overridden"
      ],
      "metadata": {
        "colab": {
          "base_uri": "https://localhost:8080/"
        },
        "id": "Jx0VYc-gzJOv",
        "outputId": "cd745028-f51b-422b-feec-f86d667a9d91"
      },
      "execution_count": null,
      "outputs": [
        {
          "output_type": "stream",
          "name": "stdout",
          "text": [
            "Engine started\n"
          ]
        }
      ]
    },
    {
      "cell_type": "markdown",
      "source": [
        "## Hybrid Inheritance"
      ],
      "metadata": {
        "id": "vkJaZl1mzp-H"
      }
    },
    {
      "cell_type": "code",
      "source": [
        "class Base: # Grandparent\n",
        "    def greet(self):\n",
        "        print(\"Hello from Base\")\n",
        "\n",
        "class Derived1(Base): # Parent 1 inherits from Base\n",
        "    pass\n",
        "\n",
        "class Derived2(Base): # Parent 2 inherits from Base\n",
        "    def greet(self): # Maybe overrides the method\n",
        "         print(\"Hello from Derived2\")\n",
        "\n",
        "class FinalDerived(Derived1, Derived2): # Child inherits from both Derived1 and Derived2\n",
        "    pass # Which 'greet' method will be called?\n",
        "\n",
        "# Usage\n",
        "obj = FinalDerived()\n",
        "obj.greet() # Output depends on Python's MRO (usually \"Hello from Derived2\" in this case)"
      ],
      "metadata": {
        "colab": {
          "base_uri": "https://localhost:8080/"
        },
        "id": "nqrq1nSlziOt",
        "outputId": "29a10a5b-fa76-481e-a72c-82004ab6074b"
      },
      "execution_count": null,
      "outputs": [
        {
          "output_type": "stream",
          "name": "stdout",
          "text": [
            "Hello from Derived2\n"
          ]
        }
      ]
    },
    {
      "cell_type": "markdown",
      "source": [
        "## Accessing methods and attributes from parent class"
      ],
      "metadata": {
        "id": "_Bw_ATXHxAkP"
      }
    },
    {
      "cell_type": "code",
      "source": [
        "class parent:\n",
        "\n",
        "  def drive(self,speed):\n",
        "    print(f\"parent is driving at a speed of {speed}\")\n",
        "\n",
        "class child(parent):\n",
        "\n",
        "  def drive(self,speed):\n",
        "    super().drive(speed)  # super() keyword is used to access the parent class methods and attributes in child class\n",
        "    print(f\"child is driving at a speed of {speed - 40}\")\n",
        "\n",
        "\n",
        "obj = child()\n",
        "obj.drive(100)"
      ],
      "metadata": {
        "colab": {
          "base_uri": "https://localhost:8080/"
        },
        "id": "zJaueZmZzoEH",
        "outputId": "ba548117-23a5-4cae-8b0a-627934f803b2"
      },
      "execution_count": null,
      "outputs": [
        {
          "output_type": "stream",
          "name": "stdout",
          "text": [
            "parent is driving at a speed of 100\n",
            "child is driving at a speed of 60\n"
          ]
        }
      ]
    },
    {
      "cell_type": "code",
      "source": [
        "class parent:\n",
        "\n",
        "  def __init__(self,Networth):\n",
        "    self.Networth = Networth\n",
        "\n",
        "class child(parent):\n",
        "\n",
        "  def __init__(self,Networth):\n",
        "    super().__init__(Networth)\n",
        "    print(\"child is invoked\")\n",
        "\n",
        "  def ChildNetworth(self):\n",
        "    print(f\"Child Networth is {self.Networth //2}\")\n",
        "\n",
        "obj = child(100000)\n",
        "obj.ChildNetworth()\n"
      ],
      "metadata": {
        "colab": {
          "base_uri": "https://localhost:8080/"
        },
        "id": "qPu5XVgQwcPa",
        "outputId": "c4ffd735-6d20-47d6-c199-49c050f2c1ae"
      },
      "execution_count": null,
      "outputs": [
        {
          "output_type": "stream",
          "name": "stdout",
          "text": [
            "child is invoked\n",
            "Child Networth is 50000\n"
          ]
        }
      ]
    },
    {
      "cell_type": "markdown",
      "source": [
        "## How super keyword is used in multiple Inheritance"
      ],
      "metadata": {
        "id": "1u8zUA5m1R9j"
      }
    },
    {
      "cell_type": "code",
      "source": [
        "class Parent:\n",
        "\n",
        "  def swim(self):\n",
        "    print('parent can swim')\n",
        "\n",
        "class Relative:\n",
        "\n",
        "  def drive(self):\n",
        "    print('relative can drive')\n",
        "\n",
        "  def swim(self):\n",
        "    print('relative can swim') # parent and relative having same method\n",
        "\n",
        "class Child(Parent,Relative):\n",
        "\n",
        "  def common1(self):\n",
        "    super().swim() # super() keyword is used to access the parent class methods and attributes in child class\n",
        "    pass\n",
        "\n",
        "  def common(self):\n",
        "    super(Parent,self).swim() # super(Parent,self) this specifies that parent is skipped and takes the methos from next order\n",
        "    # syntax\n",
        "    pass\n",
        "\n",
        "print(Child.__mro__) # method resolution order\n",
        "# (<class '__main__.Child'>, <class '__main__.Parent'>, <class '__main__.Relative'>, <class 'object'>)\n",
        "# This order says which inherited class method will have high priority\n",
        "\n"
      ],
      "metadata": {
        "colab": {
          "base_uri": "https://localhost:8080/"
        },
        "id": "gV8PkO0XwgB6",
        "outputId": "ed8e00d3-d643-4548-c704-8f8e3d3e7d03"
      },
      "execution_count": null,
      "outputs": [
        {
          "output_type": "stream",
          "name": "stdout",
          "text": [
            "(<class '__main__.Child'>, <class '__main__.Parent'>, <class '__main__.Relative'>, <class 'object'>)\n"
          ]
        }
      ]
    },
    {
      "cell_type": "code",
      "source": [
        "c1 = Child()\n",
        "c1.common1()\n",
        "c1.common()\n",
        "\n",
        "\n",
        "# to invoke inherited class method withod using super keyword outside the class\n",
        "Relative.swim(c1) # object is created for child using that obj we are invoking inherited class\n"
      ],
      "metadata": {
        "colab": {
          "base_uri": "https://localhost:8080/"
        },
        "id": "kGpn6Ux_zO1Y",
        "outputId": "9177a9aa-3b33-4a0b-cdb5-75ebcc26573c"
      },
      "execution_count": null,
      "outputs": [
        {
          "output_type": "stream",
          "name": "stdout",
          "text": [
            "parent can swim\n",
            "relative can swim\n",
            "relative can swim\n"
          ]
        }
      ]
    },
    {
      "cell_type": "code",
      "source": [
        "# Define a simple Parent class\n",
        "class Parent:\n",
        "    def __init__(self, name):\n",
        "        print(f\"Initializing Parent with name: {name}\")\n",
        "        self.name = name\n",
        "\n",
        "    def greet(self):\n",
        "        print(f\"Hello from Parent, my name is {self.name}\")\n",
        "\n",
        "# Define a Child class that inherits from Parent\n",
        "class Child(Parent):\n",
        "    def __init__(self, name, age):\n",
        "        # --- This is where super() is commonly used! ---\n",
        "        # Call the parent's __init__ method to initialize the 'name' attribute\n",
        "        # super() here refers to the Parent class for this instance\n",
        "        super().__init__(name)\n",
        "        # Now initialize attributes specific to the Child class\n",
        "        print(f\"Initializing Child with age: {age}\")\n",
        "        self.age = age\n",
        "\n",
        "    def greet(self):\n",
        "        # --- You can also call other parent methods ---\n",
        "        # Let the parent do its greeting first\n",
        "        super().greet()\n",
        "        # Then add something specific from the child\n",
        "        print(f\"Also, I am {self.age} years old (from Child class)\")\n",
        "\n",
        "# Create an instance of the Child class\n",
        "my_child = Child(\"Alice\", 5)\n",
        "\n",
        "print(\"-\" * 20)\n",
        "\n",
        "# Call the greet method on the child instance\n",
        "# This will execute the Child's greet method, which in turn calls the Parent's greet\n",
        "my_child.greet()\n"
      ],
      "metadata": {
        "colab": {
          "base_uri": "https://localhost:8080/"
        },
        "id": "mmIzFGvz0aIH",
        "outputId": "5032ad20-7e83-4711-a89f-ac9a17ad3ec7"
      },
      "execution_count": null,
      "outputs": [
        {
          "output_type": "stream",
          "name": "stdout",
          "text": [
            "Initializing Parent with name: Alice\n",
            "Initializing Child with age: 5\n",
            "--------------------\n",
            "Hello from Parent, my name is Alice\n",
            "Also, I am 5 years old (from Child class)\n"
          ]
        }
      ]
    },
    {
      "cell_type": "code",
      "source": [
        "## super() in multiple inheritence\n",
        "\n",
        "class Employee:\n",
        "    def handle_request(self):\n",
        "        print(\"Employee: I'll try to help.\")\n",
        "\n",
        "class TeamLead(Employee):\n",
        "    def handle_request(self):\n",
        "        print(\"Team Lead: Let me take over.\")\n",
        "        super(TeamLead, self).handle_request()\n",
        "\n",
        "class Manager(TeamLead):\n",
        "    def handle_request(self):\n",
        "        print(\"Manager: Escalated to me.\")\n",
        "        super(Manager, self).handle_request()\n",
        "\n",
        "# Start the chain\n",
        "request = Manager()\n",
        "request.handle_request()\n"
      ],
      "metadata": {
        "colab": {
          "base_uri": "https://localhost:8080/"
        },
        "id": "U0YYigNo4xIj",
        "outputId": "71baab46-719a-4de2-9142-e0b15a670728"
      },
      "execution_count": null,
      "outputs": [
        {
          "output_type": "stream",
          "name": "stdout",
          "text": [
            "Manager: Escalated to me.\n",
            "Team Lead: Let me take over.\n",
            "Employee: I'll try to help.\n"
          ]
        }
      ]
    },
    {
      "cell_type": "code",
      "source": [
        "## method resolution order\n",
        "Manager.mro()"
      ],
      "metadata": {
        "colab": {
          "base_uri": "https://localhost:8080/"
        },
        "id": "dFmMmN8O8czE",
        "outputId": "b4e9e7b6-0d3b-48e8-d21f-5d40497b42f5"
      },
      "execution_count": null,
      "outputs": [
        {
          "output_type": "execute_result",
          "data": {
            "text/plain": [
              "[__main__.Manager, __main__.TeamLead, __main__.Employee, object]"
            ]
          },
          "metadata": {},
          "execution_count": 7
        }
      ]
    },
    {
      "cell_type": "markdown",
      "source": [
        "#Encapsulation\n",
        "\n",
        "### Hiding the object which is to be hidden"
      ],
      "metadata": {
        "id": "jjxge4jb4ydf"
      }
    },
    {
      "cell_type": "code",
      "source": [
        "class School:\n",
        "\n",
        "  def __init__(self):\n",
        "    self.name = 'ABC'\n",
        "    self.place = 'Kulasekharam'\n",
        "    self.revenue = 1000000\n",
        "\n",
        "\n",
        "  school1 = School()\n",
        "  print(school1.name)\n",
        "  print(school1.place)\n",
        "  print(school1.revenue)\n"
      ],
      "metadata": {
        "id": "Hz1yt1RciKwX",
        "colab": {
          "base_uri": "https://localhost:8080/"
        },
        "outputId": "33a8de91-f57f-4e0e-8d69-12595070078f"
      },
      "execution_count": null,
      "outputs": [
        {
          "output_type": "stream",
          "name": "stdout",
          "text": [
            "ABC\n",
            "Kulasekharam\n",
            "1000000\n"
          ]
        }
      ]
    },
    {
      "cell_type": "code",
      "source": [
        "class School:\n",
        "\n",
        "  def __init__(self):\n",
        "    self.name = 'ABC'\n",
        "    self.place = 'Kulasekharam'\n",
        "    self.__revenue = 1000000 ## adding __ in attribute makes it as private\n",
        "\n",
        "\n",
        "  school1 = School()\n",
        "  print(school1.name)\n",
        "  print(school1.place)\n",
        "  print(school1.revenue) # we cant able to access a private attribute"
      ],
      "metadata": {
        "colab": {
          "base_uri": "https://localhost:8080/",
          "height": 332
        },
        "id": "KDww4iLC5mZr",
        "outputId": "7ee14e82-2b77-474c-f990-c5b90b276d78"
      },
      "execution_count": null,
      "outputs": [
        {
          "output_type": "stream",
          "name": "stdout",
          "text": [
            "ABC\n",
            "Kulasekharam\n"
          ]
        },
        {
          "output_type": "error",
          "ename": "AttributeError",
          "evalue": "'School' object has no attribute 'revenue'",
          "traceback": [
            "\u001b[0;31m---------------------------------------------------------------------------\u001b[0m",
            "\u001b[0;31mAttributeError\u001b[0m                            Traceback (most recent call last)",
            "\u001b[0;32m<ipython-input-9-e3b6157bddbf>\u001b[0m in \u001b[0;36m<cell line: 0>\u001b[0;34m()\u001b[0m\n\u001b[0;32m----> 1\u001b[0;31m \u001b[0;32mclass\u001b[0m \u001b[0mSchool\u001b[0m\u001b[0;34m:\u001b[0m\u001b[0;34m\u001b[0m\u001b[0;34m\u001b[0m\u001b[0m\n\u001b[0m\u001b[1;32m      2\u001b[0m \u001b[0;34m\u001b[0m\u001b[0m\n\u001b[1;32m      3\u001b[0m   \u001b[0;32mdef\u001b[0m \u001b[0m__init__\u001b[0m\u001b[0;34m(\u001b[0m\u001b[0mself\u001b[0m\u001b[0;34m)\u001b[0m\u001b[0;34m:\u001b[0m\u001b[0;34m\u001b[0m\u001b[0;34m\u001b[0m\u001b[0m\n\u001b[1;32m      4\u001b[0m     \u001b[0mself\u001b[0m\u001b[0;34m.\u001b[0m\u001b[0mname\u001b[0m \u001b[0;34m=\u001b[0m \u001b[0;34m'ABC'\u001b[0m\u001b[0;34m\u001b[0m\u001b[0;34m\u001b[0m\u001b[0m\n\u001b[1;32m      5\u001b[0m     \u001b[0mself\u001b[0m\u001b[0;34m.\u001b[0m\u001b[0mplace\u001b[0m \u001b[0;34m=\u001b[0m \u001b[0;34m'Kulasekharam'\u001b[0m\u001b[0;34m\u001b[0m\u001b[0;34m\u001b[0m\u001b[0m\n",
            "\u001b[0;32m<ipython-input-9-e3b6157bddbf>\u001b[0m in \u001b[0;36mSchool\u001b[0;34m()\u001b[0m\n\u001b[1;32m     10\u001b[0m   \u001b[0mprint\u001b[0m\u001b[0;34m(\u001b[0m\u001b[0mschool1\u001b[0m\u001b[0;34m.\u001b[0m\u001b[0mname\u001b[0m\u001b[0;34m)\u001b[0m\u001b[0;34m\u001b[0m\u001b[0;34m\u001b[0m\u001b[0m\n\u001b[1;32m     11\u001b[0m   \u001b[0mprint\u001b[0m\u001b[0;34m(\u001b[0m\u001b[0mschool1\u001b[0m\u001b[0;34m.\u001b[0m\u001b[0mplace\u001b[0m\u001b[0;34m)\u001b[0m\u001b[0;34m\u001b[0m\u001b[0;34m\u001b[0m\u001b[0m\n\u001b[0;32m---> 12\u001b[0;31m   \u001b[0mprint\u001b[0m\u001b[0;34m(\u001b[0m\u001b[0mschool1\u001b[0m\u001b[0;34m.\u001b[0m\u001b[0mrevenue\u001b[0m\u001b[0;34m)\u001b[0m\u001b[0;34m\u001b[0m\u001b[0;34m\u001b[0m\u001b[0m\n\u001b[0m",
            "\u001b[0;31mAttributeError\u001b[0m: 'School' object has no attribute 'revenue'"
          ]
        }
      ]
    },
    {
      "cell_type": "code",
      "source": [],
      "metadata": {
        "id": "v-PleWRw55QY"
      },
      "execution_count": null,
      "outputs": []
    },
    {
      "cell_type": "code",
      "source": [
        "class School:\n",
        "\n",
        "  def __init__(self):\n",
        "    self.name = 'ABC'\n",
        "    self.place = 'Kulasekharam'\n",
        "    self.__revenue = 1000000 ## adding __ in attribute makes it as private\n",
        "\n",
        "  def SchoolRevenue(self):\n",
        "    print(self.__revenue) # way to accesss a private attribute\n",
        "\n",
        "\n"
      ],
      "metadata": {
        "id": "Ut5M44qs6TvY"
      },
      "execution_count": null,
      "outputs": []
    },
    {
      "cell_type": "code",
      "source": [
        "  school1 = School()\n",
        "  print(school1.SchoolRevenue())"
      ],
      "metadata": {
        "colab": {
          "base_uri": "https://localhost:8080/"
        },
        "id": "GjdoLdML6wM1",
        "outputId": "f2af56f2-5a3b-4599-e936-b72a1f990746"
      },
      "execution_count": null,
      "outputs": [
        {
          "output_type": "stream",
          "name": "stdout",
          "text": [
            "1000000\n",
            "None\n"
          ]
        }
      ]
    },
    {
      "cell_type": "code",
      "source": [
        "class BankAccount:\n",
        "    def __init__(self, owner, balance):\n",
        "        self.owner = owner\n",
        "        self.__balance = balance  # Private variable\n",
        "\n",
        "    def deposit(self, amount):\n",
        "        if amount > 0:\n",
        "            self.__balance += amount\n",
        "\n",
        "    def withdraw(self, amount):\n",
        "        if 0 < amount <= self.__balance:\n",
        "            self.__balance -= amount\n",
        "        else:\n",
        "            print(\"Insufficient balance!\")\n",
        "\n",
        "    def get_balance(self):\n",
        "        return self.__balance\n"
      ],
      "metadata": {
        "id": "9B6_EKWJ6zNc"
      },
      "execution_count": null,
      "outputs": []
    },
    {
      "cell_type": "code",
      "source": [
        "account = BankAccount(\"Abi\", 1000)\n",
        "\n",
        "account.deposit(500)\n",
        "print(account.get_balance())   # 1500\n",
        "\n",
        "account.withdraw(300)\n",
        "print(account.get_balance())   # 1200\n"
      ],
      "metadata": {
        "colab": {
          "base_uri": "https://localhost:8080/"
        },
        "id": "QGJwgYGPBudw",
        "outputId": "dfcfad67-de68-482f-9f7a-419a5c6b20fc"
      },
      "execution_count": null,
      "outputs": [
        {
          "output_type": "stream",
          "name": "stdout",
          "text": [
            "1500\n",
            "1200\n"
          ]
        }
      ]
    },
    {
      "cell_type": "code",
      "source": [
        "## example for protedted\n",
        "class Employee:\n",
        "    def __init__(self, name, salary):\n",
        "        self.name = name\n",
        "        self._salary = salary  # Protected attribute\n",
        "\n",
        "    def show_info(self):\n",
        "        print(f\"Name: {self.name}, Salary: {self._salary}\")\n",
        "\n",
        "class Manager(Employee):\n",
        "    def __init__(self, name, salary, bonus):\n",
        "        super().__init__(name, salary)\n",
        "        self._bonus = bonus  # Also protected\n",
        "\n",
        "    def total_compensation(self):\n",
        "        return self._salary + self._bonus\n"
      ],
      "metadata": {
        "id": "AucXsOIgB12e"
      },
      "execution_count": null,
      "outputs": []
    },
    {
      "cell_type": "code",
      "source": [
        "m = Manager(\"Bob\", 80000, 10000)\n",
        "\n",
        "m.show_info()                 #  Access through method\n",
        "print(m.total_compensation()) # Uses protected _salary and _bonus\n",
        "\n",
        "print(m._salary)              # Technically allowed but discouraged\n"
      ],
      "metadata": {
        "colab": {
          "base_uri": "https://localhost:8080/"
        },
        "id": "cJrmbrgPCR7T",
        "outputId": "6540c310-05d4-47cd-f992-144721a86b28"
      },
      "execution_count": null,
      "outputs": [
        {
          "output_type": "stream",
          "name": "stdout",
          "text": [
            "Name: Bob, Salary: 80000\n",
            "90000\n",
            "80000\n"
          ]
        }
      ]
    },
    {
      "cell_type": "markdown",
      "source": [
        "## Getter Setter"
      ],
      "metadata": {
        "id": "m6CBR49TlJQc"
      }
    },
    {
      "cell_type": "code",
      "source": [
        "class person:\n",
        "  def  __init__(self):\n",
        "    self.__name = None # private variablee\n",
        "\n",
        "  def SetName(self,value): # setter method to set value for __name since we can't do directly\n",
        "    if len(value) <= 2:\n",
        "      print(\"Provide appropriate name having character length more than 2\")\n",
        "    elif len(value) > 20:\n",
        "      print(\"Provide appropriate name having character length less than 20\")\n",
        "    else:\n",
        "      self.__name = value\n",
        "\n",
        "  def GetName(self):\n",
        "    if self.__name == None:\n",
        "      print(\"Name is not set\")\n",
        "    return self.__name # getter method to access variable"
      ],
      "metadata": {
        "id": "HWDyjNz4CWDP"
      },
      "execution_count": null,
      "outputs": []
    },
    {
      "cell_type": "code",
      "source": [
        "obj = person()\n",
        "obj.SetName(\"abmnsdclkwmclewkplckeckepcdkp'ewscfkpesa\")\n",
        "obj.SetName('ab')\n",
        "obj.GetName()\n"
      ],
      "metadata": {
        "colab": {
          "base_uri": "https://localhost:8080/"
        },
        "id": "AxF3LY4EmDKj",
        "outputId": "a69b0863-162a-438a-f8c8-ca676f901bc7"
      },
      "execution_count": null,
      "outputs": [
        {
          "output_type": "stream",
          "name": "stdout",
          "text": [
            "Provide appropriate name having character length less than 20\n",
            "Provide appropriate name having character length more than 2\n",
            "Name is not set\n"
          ]
        }
      ]
    },
    {
      "cell_type": "markdown",
      "source": [
        "## @property and @setter decorators"
      ],
      "metadata": {
        "id": "xzTMMtE2nzuy"
      }
    },
    {
      "cell_type": "code",
      "source": [
        "class person:\n",
        "  def  __init__(self):\n",
        "    self.__name = None # private variable\n",
        "\n",
        "\n",
        "  @property #property decorator is used to make a method as getter\n",
        "  def name(self):\n",
        "    if self.__name == None:\n",
        "      print(\"Name is not set\")\n",
        "    return self.__name # getter method to access variable\n",
        "\n",
        "  @name.setter  # name.setter decorator denotes that it is a setter for the name method decorated with @property\n",
        "  def name(self,value): # setter method to set value for __name since we can't do directly\n",
        "    if len(value) <= 2:\n",
        "      print(\"Provide appropriate name having character length more than 2\")\n",
        "    elif len(value) > 20:\n",
        "      print(\"Provide appropriate name having character length less than 20\")\n",
        "    else:\n",
        "      self.__name = value\n",
        "\n"
      ],
      "metadata": {
        "id": "KaME0evUmFo7"
      },
      "execution_count": null,
      "outputs": []
    },
    {
      "cell_type": "code",
      "source": [
        "person = person()\n",
        "person.name = \"Abishek\"\n",
        "person.name"
      ],
      "metadata": {
        "colab": {
          "base_uri": "https://localhost:8080/",
          "height": 36
        },
        "id": "wZ0nn07ZpVXK",
        "outputId": "aa4d8f72-21d0-4618-f839-0ed9354e783c"
      },
      "execution_count": null,
      "outputs": [
        {
          "output_type": "execute_result",
          "data": {
            "text/plain": [
              "'Abishek'"
            ],
            "application/vnd.google.colaboratory.intrinsic+json": {
              "type": "string"
            }
          },
          "metadata": {},
          "execution_count": 27
        }
      ]
    },
    {
      "cell_type": "markdown",
      "source": [
        "Here setter, getter  methods and variable have the same variable name(name)\n",
        "\n",
        "We use in this way because we dont have to initialize a method to set name\n",
        "\n",
        "Here the name method will act as a variable"
      ],
      "metadata": {
        "id": "lOH_inWso5Jt"
      }
    },
    {
      "cell_type": "code",
      "source": [
        "class abc:\n",
        "\n",
        "  def __init__(self):\n",
        "    self.__age = None\n",
        "\n",
        "  @property\n",
        "  def age(self):\n",
        "    if self.__age == None:\n",
        "      print(\"Age is not set\")\n",
        "    return self.__age\n",
        "\n",
        "  @age.setter\n",
        "  def age(self,value):\n",
        "    if value < 0:\n",
        "      print(\"Age cannot be negative\")\n",
        "    if value > 100:\n",
        "      print(\"Age cannot be more than 100\")\n",
        "    else:\n",
        "      self.__age = value"
      ],
      "metadata": {
        "id": "rEbBgBJdpETP"
      },
      "execution_count": null,
      "outputs": []
    },
    {
      "cell_type": "code",
      "source": [
        "obj = abc()\n",
        "obj.age = -2 # insted of setting value in age() method we are using the age() method as a variable using @property and @setter decorators\n",
        "obj.age\n"
      ],
      "metadata": {
        "colab": {
          "base_uri": "https://localhost:8080/"
        },
        "id": "BIvSFGgMmIgw",
        "outputId": "b8f72c92-8f55-4bcf-8bf4-306ef70d6ef1"
      },
      "execution_count": null,
      "outputs": [
        {
          "output_type": "stream",
          "name": "stdout",
          "text": [
            "Age cannot be negative\n"
          ]
        },
        {
          "output_type": "execute_result",
          "data": {
            "text/plain": [
              "-2"
            ]
          },
          "metadata": {},
          "execution_count": 39
        }
      ]
    },
    {
      "cell_type": "markdown",
      "source": [
        "# Ploymorphism"
      ],
      "metadata": {
        "id": "qnF0ii3smSWJ"
      }
    },
    {
      "cell_type": "markdown",
      "source": [
        "## Compile time Polymorphism"
      ],
      "metadata": {
        "id": "HNEgg1aAtGUN"
      }
    },
    {
      "cell_type": "code",
      "source": [
        "class person:\n",
        "\n",
        "  def __init__(self,name,age):\n",
        "    self.name = name\n",
        "    self.age = age\n",
        "\n",
        "  def sleep(self,sleepinghours):\n",
        "    print(\"slepping duration is\" , sleepinghours)\n",
        "\n",
        "  # same method sleep is defined below which contains two positional arguments\n",
        "  def sleep(self,start,end): # method overloading\n",
        "    print(\"sleeping duration is \", start-end)"
      ],
      "metadata": {
        "id": "LJEe3Sq5qiUu"
      },
      "execution_count": null,
      "outputs": []
    },
    {
      "cell_type": "markdown",
      "source": [
        "Method overriding is not applicable in python\n",
        "\n",
        "In python it will take the last method which is having similar name as updated one"
      ],
      "metadata": {
        "id": "m_1bSPiIou4i"
      }
    },
    {
      "cell_type": "code",
      "source": [
        "obj = person('gokul',12)\n",
        "\n",
        "obj.sleep(8,5)"
      ],
      "metadata": {
        "colab": {
          "base_uri": "https://localhost:8080/"
        },
        "id": "_LvTLALLnwjT",
        "outputId": "ca1518b5-32c0-4498-c51a-d15432595efe"
      },
      "execution_count": null,
      "outputs": [
        {
          "output_type": "stream",
          "name": "stdout",
          "text": [
            "sleeping duration is  3\n"
          ]
        }
      ]
    },
    {
      "cell_type": "markdown",
      "source": [],
      "metadata": {
        "id": "GZqm2UvmrvXd"
      }
    },
    {
      "cell_type": "code",
      "source": [
        "class sleeping:\n",
        "\n",
        "  def __init__(self,name,age):\n",
        "    self.name = name\n",
        "    self.age = age\n",
        "\n",
        "  def sleep(self,sleepinghours = 8 , starttime = None, endtime =None): # this is alternative way to achieve method overloading\n",
        "    if starttime != None and endtime != None:\n",
        "      print(\"sleeping duration is \", starttime - endtime)\n",
        "    else:\n",
        "      print(\"Sleeping Duration is \", sleepinghours)"
      ],
      "metadata": {
        "id": "_HiacQlOruCi"
      },
      "execution_count": null,
      "outputs": []
    },
    {
      "cell_type": "code",
      "source": [
        "obj = sleeping(\"abi\", 23)\n",
        "obj.sleep(starttime=20,endtime=6)"
      ],
      "metadata": {
        "colab": {
          "base_uri": "https://localhost:8080/"
        },
        "id": "NFWfIH0esMkf",
        "outputId": "6e77c5a8-7b8a-4a93-fb9f-54f2a73d8e7b"
      },
      "execution_count": null,
      "outputs": [
        {
          "output_type": "stream",
          "name": "stdout",
          "text": [
            "sleeping duration is  14\n"
          ]
        }
      ]
    },
    {
      "cell_type": "markdown",
      "source": [
        "## Run time Polymorphism"
      ],
      "metadata": {
        "id": "wY8V7M30tLTu"
      }
    },
    {
      "cell_type": "code",
      "source": [
        "# 1. Define a base class\n",
        "class Animal:\n",
        "    def __init__(self, name):\n",
        "        self.name = name\n",
        "\n",
        "    # A method defined in the base class\n",
        "    def make_sound(self):\n",
        "        print(\"Generic animal sound (from Animal class)\")\n",
        "\n",
        "# 2. Define derived classes that inherit from the base class\n",
        "class Dog(Animal):\n",
        "    # Override the make_sound method\n",
        "    def make_sound(self):\n",
        "        print(\"Woof! Woof! (from Dog class)\")\n",
        "\n",
        "class Cat(Animal):\n",
        "    # Override the make_sound method\n",
        "    def make_sound(self):\n",
        "        print(\"Meow. (from Cat class)\")\n",
        "\n",
        "class Duck(Animal):\n",
        "    # Override the make_sound method\n",
        "    def make_sound(self):\n",
        "        print(\"Quack! (from Duck class)\")\n",
        "\n",
        "# --- Demonstrating Runtime Polymorphism ---\n",
        "\n",
        "# Create a list containing objects of different types (Dog, Cat, Duck, Animal)\n",
        "# Notice that the 'animal' variable in the loop can refer to any of these types.\n",
        "animals = [\n",
        "    Dog(\"Buddy\"),\n",
        "    Cat(\"Whiskers\"),\n",
        "    Duck(\"Daffy\"),\n",
        "    Animal(\"Mysterious Creature\") # Include a base class instance too\n",
        "]\n",
        "\n",
        "print(\"Listening to the sounds of different animals:\")\n",
        "\n",
        "# Iterate through the list and call the *same* method on each object\n",
        "for animal in animals:\n",
        "    # This single line of code demonstrates polymorphism!\n",
        "    # Python figures out *at runtime* which make_sound method to call\n",
        "    # based on the actual type of the object 'animal' currently refers to.\n",
        "    print(f\"{animal.name} says:\", end=\" \")\n",
        "    animal.make_sound() # <-- Polymorphic call!\n",
        "\n",
        "print(\"\\nDone listening.\")\n"
      ],
      "metadata": {
        "colab": {
          "base_uri": "https://localhost:8080/"
        },
        "id": "ZIU0cDzvsSmX",
        "outputId": "0f3cb48c-76ae-4094-c858-aa124fe92bc1"
      },
      "execution_count": null,
      "outputs": [
        {
          "output_type": "stream",
          "name": "stdout",
          "text": [
            "Listening to the sounds of different animals:\n",
            "Buddy says: Woof! Woof! (from Dog class)\n",
            "Whiskers says: Meow. (from Cat class)\n",
            "Daffy says: Quack! (from Duck class)\n",
            "Mysterious Creature says: Generic animal sound (from Animal class)\n",
            "\n",
            "Done listening.\n"
          ]
        }
      ]
    },
    {
      "cell_type": "markdown",
      "source": [
        "Here different methods are initiated based on the input\n",
        "\n",
        "Run time polymorphism can be achieved in inheritence only"
      ],
      "metadata": {
        "id": "JIh_jxXRv9W7"
      }
    },
    {
      "cell_type": "markdown",
      "source": [
        "# Abstraction"
      ],
      "metadata": {
        "id": "3AIF7KyyBF5R"
      }
    },
    {
      "cell_type": "code",
      "source": [
        "from abc import ABC, abstractmethod\n",
        "\n",
        "class vehicle(ABC):\n",
        "\n",
        "  @abstractmethod\n",
        "  def startengine(self):\n",
        "    pass\n",
        "\n",
        "class car(vehicle):\n",
        "\n",
        "  def startengine(self):\n",
        "    print(\"car engine started\")\n",
        "\n",
        "class bike(vehicle):\n",
        "\n",
        "  def startengine(self):\n",
        "    print(\"bike engine started\")\n",
        "\n",
        "car1 = car()\n",
        "car1.startengine()\n",
        "\n",
        "bike1 = bike()\n",
        "bike1.startengine()"
      ],
      "metadata": {
        "id": "31dwxjxRvo4N",
        "colab": {
          "base_uri": "https://localhost:8080/"
        },
        "outputId": "975f15e4-44f1-479e-f3ea-992fa291bb07"
      },
      "execution_count": null,
      "outputs": [
        {
          "output_type": "stream",
          "name": "stdout",
          "text": [
            "car engine started\n",
            "bike engine started\n"
          ]
        }
      ]
    },
    {
      "cell_type": "code",
      "source": [
        "v1 = vehicle()"
      ],
      "metadata": {
        "colab": {
          "base_uri": "https://localhost:8080/",
          "height": 141
        },
        "id": "nZuHwmTTBlHw",
        "outputId": "886a886f-da82-4803-cec8-449fdcb93b59"
      },
      "execution_count": null,
      "outputs": [
        {
          "output_type": "error",
          "ename": "TypeError",
          "evalue": "Can't instantiate abstract class vehicle with abstract method startengine",
          "traceback": [
            "\u001b[0;31m---------------------------------------------------------------------------\u001b[0m",
            "\u001b[0;31mTypeError\u001b[0m                                 Traceback (most recent call last)",
            "\u001b[0;32m<ipython-input-3-ec017df3f867>\u001b[0m in \u001b[0;36m<cell line: 0>\u001b[0;34m()\u001b[0m\n\u001b[0;32m----> 1\u001b[0;31m \u001b[0mv1\u001b[0m \u001b[0;34m=\u001b[0m \u001b[0mvehicle\u001b[0m\u001b[0;34m(\u001b[0m\u001b[0;34m)\u001b[0m\u001b[0;34m\u001b[0m\u001b[0;34m\u001b[0m\u001b[0m\n\u001b[0m",
            "\u001b[0;31mTypeError\u001b[0m: Can't instantiate abstract class vehicle with abstract method startengine"
          ]
        }
      ]
    },
    {
      "cell_type": "markdown",
      "source": [
        "ABC inherited class mentions that it contains abstract method\n",
        "\n",
        "The methods defined as abstract method should be eloborated in inherited child classes ie. start engine method is abstract method in vehicle class it dont have any functionality but in inherited child classes have actual functionality\n",
        "\n",
        "we cannot able to create object for abstract class\n",
        "\n",
        "we can able to create public methods as well in abstract class"
      ],
      "metadata": {
        "id": "RRWgyQiVBysc"
      }
    },
    {
      "cell_type": "code",
      "source": [],
      "metadata": {
        "id": "W0Z6HceFBxXd"
      },
      "execution_count": null,
      "outputs": []
    }
  ]
}