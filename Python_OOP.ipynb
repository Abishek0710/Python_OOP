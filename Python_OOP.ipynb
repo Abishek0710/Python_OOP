{
  "cells": [
    {
      "cell_type": "markdown",
      "metadata": {
        "id": "LiHYSZ4KBpYD"
      },
      "source": [
        "# Classes and Objects"
      ]
    },
    {
      "cell_type": "code",
      "execution_count": null,
      "metadata": {
        "id": "09ZWqR48v3L5"
      },
      "outputs": [],
      "source": [
        "# class\n",
        "class Human:\n",
        "\n",
        "  # Attributes\n",
        "  Name = None\n",
        "  Age = None\n",
        "  Weight = None\n",
        "  Height = None\n",
        "\n",
        "  # Methods\n",
        "  def Sleep(self): # self is used to initialize the class itself\n",
        "  # This will help to access the attributes of a class\n",
        "    print(self.Name + ' is Sleeping')\n",
        "\n",
        "# Object\n",
        "person = Human()\n",
        "\n",
        "person.Name = 'Abi'\n",
        "person.Age = 23\n",
        "person.Weight = 74\n",
        "person.Height = 178"
      ]
    },
    {
      "cell_type": "code",
      "execution_count": null,
      "metadata": {
        "colab": {
          "base_uri": "https://localhost:8080/"
        },
        "id": "ftfvuz0uwWKS",
        "outputId": "e3905c2d-8bb2-4b16-83de-2248f0a97044"
      },
      "outputs": [
        {
          "name": "stdout",
          "output_type": "stream",
          "text": [
            "178\n",
            "74\n"
          ]
        }
      ],
      "source": [
        "print(person.Height)\n",
        "print(person.Weight)"
      ]
    },
    {
      "cell_type": "code",
      "execution_count": null,
      "metadata": {
        "id": "S2EqNFqGwq3P"
      },
      "outputs": [],
      "source": [
        "person2 = Human()\n",
        "person2.Name = 'Dolu'\n",
        "person2.Age = 5\n",
        "person2.Weight = 25\n",
        "person2.Height = 84"
      ]
    },
    {
      "cell_type": "code",
      "execution_count": null,
      "metadata": {
        "colab": {
          "base_uri": "https://localhost:8080/"
        },
        "id": "ebX7D-d6x3jO",
        "outputId": "747f37e6-3a14-48ad-8586-d5506edf2c36"
      },
      "outputs": [
        {
          "data": {
            "text/plain": [
              "84"
            ]
          },
          "execution_count": 4,
          "metadata": {},
          "output_type": "execute_result"
        }
      ],
      "source": [
        "person2.Height"
      ]
    },
    {
      "cell_type": "code",
      "execution_count": null,
      "metadata": {
        "colab": {
          "base_uri": "https://localhost:8080/"
        },
        "id": "9T_qY-b2x6FI",
        "outputId": "ef1a556d-986e-4bf6-b4ce-4388b9f10f96"
      },
      "outputs": [
        {
          "name": "stdout",
          "output_type": "stream",
          "text": [
            "Dolu is Sleeping\n",
            "None\n"
          ]
        }
      ],
      "source": [
        "print(person2.Sleep())"
      ]
    },
    {
      "cell_type": "code",
      "execution_count": null,
      "metadata": {
        "id": "ZwU1x2eJzKGt"
      },
      "outputs": [],
      "source": [
        "# class\n",
        "class Human1:\n",
        "  pass\n",
        "\n",
        "person3 = Human1()"
      ]
    },
    {
      "cell_type": "code",
      "execution_count": null,
      "metadata": {
        "id": "y54XSbJp_9kO"
      },
      "outputs": [],
      "source": [
        "person3.Age = 25"
      ]
    },
    {
      "cell_type": "code",
      "execution_count": null,
      "metadata": {
        "colab": {
          "base_uri": "https://localhost:8080/"
        },
        "id": "PePBDnJ9AB5h",
        "outputId": "2604f86e-9cc1-448e-a495-992c557f5191"
      },
      "outputs": [
        {
          "name": "stdout",
          "output_type": "stream",
          "text": [
            "25\n"
          ]
        }
      ],
      "source": [
        "print(person3.Age)"
      ]
    },
    {
      "cell_type": "code",
      "execution_count": null,
      "metadata": {
        "id": "pfOQR19fptWG"
      },
      "outputs": [],
      "source": [
        "class student:\n",
        "  tamil = None\n",
        "  English = None\n",
        "  math = None\n",
        "  science = None\n",
        "\n",
        "  def total(self):\n",
        "    print('Total is', self.tamil+self.English+self.math+self.science)"
      ]
    },
    {
      "cell_type": "code",
      "execution_count": null,
      "metadata": {
        "colab": {
          "base_uri": "https://localhost:8080/"
        },
        "id": "7QCzc-KdqiYl",
        "outputId": "e073c060-89e4-4f45-f726-6d11897f8c9d"
      },
      "outputs": [
        {
          "name": "stdout",
          "output_type": "stream",
          "text": [
            "Total is 365\n",
            "None\n"
          ]
        }
      ],
      "source": [
        "student1 = student()\n",
        "student1.tamil =90\n",
        "student1.English =86\n",
        "student1.math =97\n",
        "student1.science = 92\n",
        "\n",
        "print(student1.total())"
      ]
    },
    {
      "cell_type": "code",
      "execution_count": null,
      "metadata": {
        "colab": {
          "base_uri": "https://localhost:8080/"
        },
        "id": "07s5uUZ2rM71",
        "outputId": "325e285f-ac58-422e-c7f6-9680e1064205"
      },
      "outputs": [
        {
          "name": "stdout",
          "output_type": "stream",
          "text": [
            "Total is 365\n"
          ]
        }
      ],
      "source": [
        "student1.total()"
      ]
    },
    {
      "cell_type": "code",
      "execution_count": null,
      "metadata": {
        "colab": {
          "base_uri": "https://localhost:8080/",
          "height": 141
        },
        "id": "m7_HItgRAI0I",
        "outputId": "2a044edd-4919-4cd9-abbd-c9ac15307d7b"
      },
      "outputs": [
        {
          "ename": "AttributeError",
          "evalue": "'Human1' object has no attribute 'Sleep'",
          "output_type": "error",
          "traceback": [
            "\u001b[0;31m---------------------------------------------------------------------------\u001b[0m",
            "\u001b[0;31mAttributeError\u001b[0m                            Traceback (most recent call last)",
            "\u001b[0;32m<ipython-input-9-794ccfc55802>\u001b[0m in \u001b[0;36m<cell line: 0>\u001b[0;34m()\u001b[0m\n\u001b[0;32m----> 1\u001b[0;31m \u001b[0mprint\u001b[0m\u001b[0;34m(\u001b[0m\u001b[0mperson3\u001b[0m\u001b[0;34m.\u001b[0m\u001b[0mSleep\u001b[0m\u001b[0;34m(\u001b[0m\u001b[0;34m)\u001b[0m\u001b[0;34m)\u001b[0m\u001b[0;34m\u001b[0m\u001b[0;34m\u001b[0m\u001b[0m\n\u001b[0m",
            "\u001b[0;31mAttributeError\u001b[0m: 'Human1' object has no attribute 'Sleep'"
          ]
        }
      ],
      "source": [
        "print(person3.Sleep())"
      ]
    },
    {
      "cell_type": "markdown",
      "metadata": {
        "id": "SNCvPvwSAMsg"
      },
      "source": [
        "#### if there is no attributed is there in a class and an object is created with that class we can still give values for attributes with the created object but we cannot do the same for methods"
      ]
    },
    {
      "cell_type": "markdown",
      "metadata": {
        "id": "nlpG8W8GCid1"
      },
      "source": [
        "# Constructor"
      ]
    },
    {
      "cell_type": "code",
      "execution_count": null,
      "metadata": {
        "colab": {
          "base_uri": "https://localhost:8080/"
        },
        "id": "QAk9xACVALRR",
        "outputId": "640d28b3-0ee5-4d00-e0f7-d0b7dd33a65b"
      },
      "outputs": [
        {
          "name": "stdout",
          "output_type": "stream",
          "text": [
            "constructor is invoked\n"
          ]
        }
      ],
      "source": [
        "class person():\n",
        "\n",
        "  def __init__(self,Name,age):\n",
        "    self.Name = Name\n",
        "    self.age = age\n",
        "    print('constructor is invoked')\n",
        "\n",
        "p1 = person('abi',23)"
      ]
    },
    {
      "cell_type": "markdown",
      "metadata": {
        "id": "hLHuiDAWnewz"
      },
      "source": [
        "#### constructor is invoked automatically when an object is called"
      ]
    },
    {
      "cell_type": "code",
      "execution_count": null,
      "metadata": {
        "colab": {
          "base_uri": "https://localhost:8080/",
          "height": 35
        },
        "id": "ErZf51-K-iSf",
        "outputId": "8c44561b-6025-4a6f-f954-252e8840c7f0"
      },
      "outputs": [
        {
          "data": {
            "application/vnd.google.colaboratory.intrinsic+json": {
              "type": "string"
            },
            "text/plain": [
              "'abi'"
            ]
          },
          "execution_count": 3,
          "metadata": {},
          "output_type": "execute_result"
        }
      ],
      "source": [
        "p1.Name"
      ]
    },
    {
      "cell_type": "code",
      "execution_count": null,
      "metadata": {
        "id": "jV437OKI-uc4"
      },
      "outputs": [],
      "source": [
        "class person1():\n",
        "\n",
        "  def __init__(self,Name= None,age=None):\n",
        "    self.Name = Name\n",
        "    self.age = age\n",
        "    print('constructor is invoked')"
      ]
    },
    {
      "cell_type": "code",
      "execution_count": null,
      "metadata": {
        "colab": {
          "base_uri": "https://localhost:8080/"
        },
        "id": "N-8XcAv79Jty",
        "outputId": "8438d7ac-a9df-4725-aaf6-51c611209cc1"
      },
      "outputs": [
        {
          "name": "stdout",
          "output_type": "stream",
          "text": [
            "constructor is invoked\n"
          ]
        }
      ],
      "source": [
        "p2 = person1()"
      ]
    },
    {
      "cell_type": "markdown",
      "metadata": {
        "id": "3OOEhxvAoofS"
      },
      "source": [
        "### If none as value is given to an attribute in a constructor we can create an object without providing arguments\n",
        "else we need to create object in this way p2 = person1('name',age)"
      ]
    },
    {
      "cell_type": "code",
      "execution_count": null,
      "metadata": {
        "id": "tD1iobnroLk1"
      },
      "outputs": [],
      "source": [
        "class Student:\n",
        "\n",
        "  def __init__(self,Tamil,Math,English,Science):\n",
        "    self.Tamil = Tamil\n",
        "    self.Math = Math\n",
        "    self.English = English\n",
        "    self.Science = Science\n",
        "\n",
        "  def Total(self):\n",
        "    Total = self.Tamil+self.English+self.Math+self.Science\n",
        "    print(f\"The Total marks secured is : {Total}\")"
      ]
    },
    {
      "cell_type": "code",
      "execution_count": null,
      "metadata": {
        "id": "Vi6EW8Iy9eeV"
      },
      "outputs": [],
      "source": [
        "Student1 = Student(98,78,89,67)"
      ]
    },
    {
      "cell_type": "code",
      "execution_count": null,
      "metadata": {
        "colab": {
          "base_uri": "https://localhost:8080/"
        },
        "id": "Gn-wFYaXpzvy",
        "outputId": "b956bf54-e975-4061-e295-220694564560"
      },
      "outputs": [
        {
          "name": "stdout",
          "output_type": "stream",
          "text": [
            "The Total marks secured is : 332\n"
          ]
        }
      ],
      "source": [
        "Student1.Total()"
      ]
    },
    {
      "cell_type": "markdown",
      "metadata": {
        "id": "l21pNZpDqkZm"
      },
      "source": [
        "# Static Methods and Static Variables"
      ]
    },
    {
      "cell_type": "code",
      "execution_count": null,
      "metadata": {
        "id": "DgfO8X28p31H"
      },
      "outputs": [],
      "source": [
        "class dog:\n",
        "  species = 'foreign species' # Static Variable (cannot be changed)\n",
        "\n",
        "  def __init__(self, name ,breed):\n",
        "    self.name = name  # Instance variable (value is given when creating an object)\n",
        "    self.breed = breed\n",
        "\n",
        "  def dogintro(self):\n",
        "    print(f\"The name of the dog is {self.name} and the breed is {self.breed} and the species is {dog.species}\") # static variable is alled using cls_name.var_name"
      ]
    },
    {
      "cell_type": "code",
      "execution_count": null,
      "metadata": {
        "id": "DncmA6UMuN2z"
      },
      "outputs": [],
      "source": [
        "dog1 = dog('kutty', 'domestic')"
      ]
    },
    {
      "cell_type": "code",
      "execution_count": null,
      "metadata": {
        "colab": {
          "base_uri": "https://localhost:8080/"
        },
        "id": "uFlWLrpOL9h2",
        "outputId": "2f0661e2-4930-4bca-c288-0846e268d34b"
      },
      "outputs": [
        {
          "name": "stdout",
          "output_type": "stream",
          "text": [
            "The name of the dog is kutty and the breed is domestic and the species is foreign species\n"
          ]
        }
      ],
      "source": [
        "dog1.dogintro()"
      ]
    },
    {
      "cell_type": "code",
      "execution_count": null,
      "metadata": {
        "colab": {
          "base_uri": "https://localhost:8080/",
          "height": 35
        },
        "id": "rVWY44r7MDJx",
        "outputId": "0d156ae6-1a8c-4c3e-c37c-1ff5557cf4aa"
      },
      "outputs": [
        {
          "data": {
            "application/vnd.google.colaboratory.intrinsic+json": {
              "type": "string"
            },
            "text/plain": [
              "'foreign species'"
            ]
          },
          "execution_count": 5,
          "metadata": {},
          "output_type": "execute_result"
        }
      ],
      "source": [
        "dog.species  ## Static variable is accessed using this way"
      ]
    },
    {
      "cell_type": "code",
      "execution_count": null,
      "metadata": {
        "id": "swiY5PAYNGMQ"
      },
      "outputs": [],
      "source": [
        "dog.species = 'Indian' # modifying static variable"
      ]
    },
    {
      "cell_type": "code",
      "execution_count": null,
      "metadata": {
        "id": "ye_ah7nCNPee"
      },
      "outputs": [],
      "source": [
        "dog2 = dog('rambo', 'pomerian')"
      ]
    },
    {
      "cell_type": "code",
      "execution_count": null,
      "metadata": {
        "colab": {
          "base_uri": "https://localhost:8080/"
        },
        "id": "K8VyhG7wNWQp",
        "outputId": "1b08d1f3-ab73-4dfc-c387-a7f84ef6c892"
      },
      "outputs": [
        {
          "name": "stdout",
          "output_type": "stream",
          "text": [
            "The name of the dog is rambo and the breed is pomerian and the species is Indian\n"
          ]
        }
      ],
      "source": [
        "dog2.dogintro()"
      ]
    },
    {
      "cell_type": "code",
      "execution_count": null,
      "metadata": {
        "id": "5Dn_pkarNX7V"
      },
      "outputs": [],
      "source": [
        "class person:\n",
        "  sleepingtime = 8\n",
        "\n",
        "  def __init__(self,name,age):\n",
        "    self.name = name\n",
        "    self.age = age\n",
        "\n",
        "  @classmethod  # class method using this we can acess class level variables\n",
        "  def sleep(cls): # class methos takes cls as its first parameter\n",
        "    print(f'person is sleeping for {cls.sleepingtime} hours')"
      ]
    },
    {
      "cell_type": "code",
      "execution_count": null,
      "metadata": {
        "id": "LahIkHLYO12w"
      },
      "outputs": [],
      "source": [
        "p1 = person(\"abi\",23)"
      ]
    },
    {
      "cell_type": "code",
      "execution_count": null,
      "metadata": {
        "colab": {
          "base_uri": "https://localhost:8080/"
        },
        "id": "UZjMJV4SO412",
        "outputId": "6fdcfe1d-c06f-4923-ac49-dcbbf05d35de"
      },
      "outputs": [
        {
          "name": "stdout",
          "output_type": "stream",
          "text": [
            "person is sleeping for 8 hours\n"
          ]
        }
      ],
      "source": [
        "person.sleep()"
      ]
    },
    {
      "cell_type": "code",
      "execution_count": null,
      "metadata": {
        "id": "gPS4h_oBPSin"
      },
      "outputs": [],
      "source": [
        "class math:\n",
        "\n",
        "  @staticmethod\n",
        "  def add(x,y): # static method won't take self or cls parameter\n",
        "    print(x+y)\n"
      ]
    },
    {
      "cell_type": "code",
      "execution_count": null,
      "metadata": {
        "colab": {
          "base_uri": "https://localhost:8080/"
        },
        "id": "S4KK-CTtSQjP",
        "outputId": "c70cd2ae-7111-4a5f-9ce2-0a93b96e8581"
      },
      "outputs": [
        {
          "name": "stdout",
          "output_type": "stream",
          "text": [
            "8\n"
          ]
        }
      ],
      "source": [
        "math.add(3,5)"
      ]
    },
    {
      "cell_type": "markdown",
      "metadata": {
        "id": "jRK_Vo8dweJk"
      },
      "source": [
        "# Inheritance"
      ]
    },
    {
      "cell_type": "code",
      "execution_count": null,
      "metadata": {
        "id": "YMfvuI6ASSsm"
      },
      "outputs": [],
      "source": [
        "class parent:  # parent class/ super class/ base class\n",
        "\n",
        "  def __init__(self):\n",
        "    self.networth = 100000\n",
        "\n",
        "  def sing(self):\n",
        "    print(\"parent can able to sing\")\n",
        "\n",
        "class child(parent): # child class/ sub class/ derived class\n",
        "\n",
        "  def dance(self):\n",
        "    print(\"child can able to dance\")\n"
      ]
    },
    {
      "cell_type": "code",
      "execution_count": null,
      "metadata": {
        "colab": {
          "base_uri": "https://localhost:8080/"
        },
        "id": "bETXWgejwdPX",
        "outputId": "5837dd66-e032-48eb-d11e-1683e9dbed47"
      },
      "outputs": [
        {
          "name": "stdout",
          "output_type": "stream",
          "text": [
            "parent can able to sing\n"
          ]
        },
        {
          "data": {
            "text/plain": [
              "100000"
            ]
          },
          "execution_count": 5,
          "metadata": {},
          "output_type": "execute_result"
        }
      ],
      "source": [
        "child1 = child() # creating an object for child class\n",
        "\n",
        "child1.sing() # child class can able to access methods and attributes of parent class\n",
        "child1.networth"
      ]
    },
    {
      "cell_type": "markdown",
      "metadata": {
        "id": "_Wir15qU0CIq"
      },
      "source": [
        "#Types of Inheritance"
      ]
    },
    {
      "cell_type": "markdown",
      "metadata": {
        "id": "31fjpn3qyyQR"
      },
      "source": [
        "## Single Inheritance"
      ]
    },
    {
      "cell_type": "code",
      "execution_count": null,
      "metadata": {
        "colab": {
          "base_uri": "https://localhost:8080/"
        },
        "id": "gDnH4uicwrHl",
        "outputId": "994ce720-566e-4c60-e0f3-acd50b82d923"
      },
      "outputs": [
        {
          "name": "stdout",
          "output_type": "stream",
          "text": [
            "Woof\n"
          ]
        }
      ],
      "source": [
        "class Animal: # Parent\n",
        "    def speak(self):\n",
        "        print(\"Generic sound\")\n",
        "\n",
        "class Dog(Animal): # Child inherits from one parent (Animal)\n",
        "    def speak(self): # Overrides parent method\n",
        "        print(\"Woof\")\n",
        "\n",
        "# Usage\n",
        "my_dog = Dog()\n",
        "my_dog.speak() # Output: Woof"
      ]
    },
    {
      "cell_type": "markdown",
      "metadata": {
        "id": "JXkf9cuIy2A9"
      },
      "source": [
        "## Multiple Inheritance"
      ]
    },
    {
      "cell_type": "code",
      "execution_count": null,
      "metadata": {
        "colab": {
          "base_uri": "https://localhost:8080/"
        },
        "id": "DLJDsZAby03i",
        "outputId": "e5f65275-eda5-4789-bb53-bc5b24146538"
      },
      "outputs": [
        {
          "name": "stdout",
          "output_type": "stream",
          "text": [
            "Woof\n"
          ]
        }
      ],
      "source": [
        "class Animal: # Parent\n",
        "    def speak(self):\n",
        "        print(\"Generic sound\")\n",
        "\n",
        "class Dog(Animal): # Child inherits from one parent (Animal)\n",
        "    def speak(self): # Overrides parent method\n",
        "        print(\"Woof\")\n",
        "\n",
        "# Usage\n",
        "my_dog = Dog()\n",
        "my_dog.speak() # Output: Woof"
      ]
    },
    {
      "cell_type": "markdown",
      "metadata": {
        "id": "Pf0BsHF6zFJu"
      },
      "source": [
        "## Multi-Level Inheritance"
      ]
    },
    {
      "cell_type": "code",
      "execution_count": null,
      "metadata": {
        "colab": {
          "base_uri": "https://localhost:8080/"
        },
        "id": "yoxWur1my829",
        "outputId": "adb79975-8be1-4245-a7f7-556e55e05c86"
      },
      "outputs": [
        {
          "name": "stdout",
          "output_type": "stream",
          "text": [
            "Animal created\n",
            "Mammal created\n",
            "Dog created\n",
            "Buddy\n",
            "Golden\n",
            "Retriever\n",
            "Woof\n"
          ]
        }
      ],
      "source": [
        "class Animal: # Grandparent\n",
        "    def __init__(self, name):\n",
        "        self.name = name\n",
        "        print(\"Animal created\")\n",
        "\n",
        "class Mammal(Animal): # Parent inherits from Animal\n",
        "     def __init__(self, name, fur_color):\n",
        "         super().__init__(name) # Call grandparent's init\n",
        "         self.fur_color = fur_color\n",
        "         print(\"Mammal created\")\n",
        "\n",
        "class Dog(Mammal): # Child inherits from Mammal\n",
        "     def __init__(self, name, fur_color, breed):\n",
        "         super().__init__(name, fur_color) # Call parent's init\n",
        "         self.breed = breed\n",
        "         print(\"Dog created\")\n",
        "\n",
        "     def speak(self):\n",
        "         print(\"Woof\")\n",
        "\n",
        "# Usage\n",
        "my_dog = Dog(\"Buddy\", \"Golden\", \"Retriever\")\n",
        "print(my_dog.name)       # Inherited from Animal\n",
        "print(my_dog.fur_color)  # Inherited from Mammal\n",
        "print(my_dog.breed)      # Specific to Dog\n",
        "my_dog.speak()           # Specific to Dog"
      ]
    },
    {
      "cell_type": "markdown",
      "metadata": {
        "id": "es2FI8jpzWH4"
      },
      "source": [
        "## Hierarchical Inheritance"
      ]
    },
    {
      "cell_type": "code",
      "execution_count": null,
      "metadata": {
        "colab": {
          "base_uri": "https://localhost:8080/"
        },
        "id": "Jx0VYc-gzJOv",
        "outputId": "cd745028-f51b-422b-feec-f86d667a9d91"
      },
      "outputs": [
        {
          "name": "stdout",
          "output_type": "stream",
          "text": [
            "Engine started\n"
          ]
        }
      ],
      "source": [
        "class Vehicle: # Parent\n",
        "    def start(self):\n",
        "        print(\"Engine started\")\n",
        "\n",
        "class Car(Vehicle): # Child 1 inherits from Vehicle\n",
        "    def drive(self):\n",
        "        print(\"Driving car\")\n",
        "\n",
        "class Bicycle(Vehicle): # Child 2 inherits from Vehicle\n",
        "     # Bicycle might override start or not have a start method if it doesn't have an engine\n",
        "     def ride(self):\n",
        "         print(\"Riding bicycle\")\n",
        "\n",
        "class Boat(Vehicle): # Child 3 inherits from Vehicle\n",
        "     def sail(self):\n",
        "         print(\"Sailing boat\")\n",
        "\n",
        "# Usage\n",
        "my_car = Car()\n",
        "my_car.start() # Inherited\n",
        "my_bicycle = Bicycle()\n",
        "# my_bicycle.start() # Maybe not applicable or overridden"
      ]
    },
    {
      "cell_type": "markdown",
      "metadata": {
        "id": "vkJaZl1mzp-H"
      },
      "source": [
        "## Hybrid Inheritance"
      ]
    },
    {
      "cell_type": "code",
      "execution_count": null,
      "metadata": {
        "colab": {
          "base_uri": "https://localhost:8080/"
        },
        "id": "nqrq1nSlziOt",
        "outputId": "29a10a5b-fa76-481e-a72c-82004ab6074b"
      },
      "outputs": [
        {
          "name": "stdout",
          "output_type": "stream",
          "text": [
            "Hello from Derived2\n"
          ]
        }
      ],
      "source": [
        "class Base: # Grandparent\n",
        "    def greet(self):\n",
        "        print(\"Hello from Base\")\n",
        "\n",
        "class Derived1(Base): # Parent 1 inherits from Base\n",
        "    pass\n",
        "\n",
        "class Derived2(Base): # Parent 2 inherits from Base\n",
        "    def greet(self): # Maybe overrides the method\n",
        "         print(\"Hello from Derived2\")\n",
        "\n",
        "class FinalDerived(Derived1, Derived2): # Child inherits from both Derived1 and Derived2\n",
        "    pass # Which 'greet' method will be called?\n",
        "\n",
        "# Usage\n",
        "obj = FinalDerived()\n",
        "obj.greet() # Output depends on Python's MRO (usually \"Hello from Derived2\" in this case)"
      ]
    },
    {
      "cell_type": "markdown",
      "metadata": {
        "id": "_Bw_ATXHxAkP"
      },
      "source": [
        "## Accessing methods and attributes from parent class"
      ]
    },
    {
      "cell_type": "code",
      "execution_count": null,
      "metadata": {
        "colab": {
          "base_uri": "https://localhost:8080/"
        },
        "id": "zJaueZmZzoEH",
        "outputId": "ba548117-23a5-4cae-8b0a-627934f803b2"
      },
      "outputs": [
        {
          "name": "stdout",
          "output_type": "stream",
          "text": [
            "parent is driving at a speed of 100\n",
            "child is driving at a speed of 60\n"
          ]
        }
      ],
      "source": [
        "class parent:\n",
        "\n",
        "  def drive(self,speed):\n",
        "    print(f\"parent is driving at a speed of {speed}\")\n",
        "\n",
        "class child(parent):\n",
        "\n",
        "  def drive(self,speed):\n",
        "    super().drive(speed)  # super() keyword is used to access the parent class methods and attributes in child class\n",
        "    print(f\"child is driving at a speed of {speed - 40}\")\n",
        "\n",
        "\n",
        "obj = child()\n",
        "obj.drive(100)"
      ]
    },
    {
      "cell_type": "code",
      "execution_count": null,
      "metadata": {
        "colab": {
          "base_uri": "https://localhost:8080/"
        },
        "id": "qPu5XVgQwcPa",
        "outputId": "c4ffd735-6d20-47d6-c199-49c050f2c1ae"
      },
      "outputs": [
        {
          "name": "stdout",
          "output_type": "stream",
          "text": [
            "child is invoked\n",
            "Child Networth is 50000\n"
          ]
        }
      ],
      "source": [
        "class parent:\n",
        "\n",
        "  def __init__(self,Networth):\n",
        "    self.Networth = Networth\n",
        "\n",
        "class child(parent):\n",
        "\n",
        "  def __init__(self,Networth):\n",
        "    super().__init__(Networth)\n",
        "    print(\"child is invoked\")\n",
        "\n",
        "  def ChildNetworth(self):\n",
        "    print(f\"Child Networth is {self.Networth //2}\")\n",
        "\n",
        "obj = child(100000)\n",
        "obj.ChildNetworth()\n"
      ]
    },
    {
      "cell_type": "markdown",
      "metadata": {
        "id": "1u8zUA5m1R9j"
      },
      "source": [
        "## How super keyword is used in multiple Inheritance"
      ]
    },
    {
      "cell_type": "code",
      "execution_count": null,
      "metadata": {
        "colab": {
          "base_uri": "https://localhost:8080/"
        },
        "id": "gV8PkO0XwgB6",
        "outputId": "ed8e00d3-d643-4548-c704-8f8e3d3e7d03"
      },
      "outputs": [
        {
          "name": "stdout",
          "output_type": "stream",
          "text": [
            "(<class '__main__.Child'>, <class '__main__.Parent'>, <class '__main__.Relative'>, <class 'object'>)\n"
          ]
        }
      ],
      "source": [
        "class Parent:\n",
        "\n",
        "  def swim(self):\n",
        "    print('parent can swim')\n",
        "\n",
        "class Relative:\n",
        "\n",
        "  def drive(self):\n",
        "    print('relative can drive')\n",
        "\n",
        "  def swim(self):\n",
        "    print('relative can swim') # parent and relative having same method\n",
        "\n",
        "class Child(Parent,Relative):\n",
        "\n",
        "  def common1(self):\n",
        "    super().swim() # super() keyword is used to access the parent class methods and attributes in child class\n",
        "    pass\n",
        "\n",
        "  def common(self):\n",
        "    super(Parent,self).swim() # super(Parent,self) this specifies that parent is skipped and takes the methos from next order\n",
        "    # syntax\n",
        "    pass\n",
        "\n",
        "print(Child.__mro__) # method resolution order\n",
        "# (<class '__main__.Child'>, <class '__main__.Parent'>, <class '__main__.Relative'>, <class 'object'>)\n",
        "# This order says which inherited class method will have high priority\n",
        "\n"
      ]
    },
    {
      "cell_type": "code",
      "execution_count": null,
      "metadata": {
        "colab": {
          "base_uri": "https://localhost:8080/"
        },
        "id": "kGpn6Ux_zO1Y",
        "outputId": "9177a9aa-3b33-4a0b-cdb5-75ebcc26573c"
      },
      "outputs": [
        {
          "name": "stdout",
          "output_type": "stream",
          "text": [
            "parent can swim\n",
            "relative can swim\n",
            "relative can swim\n"
          ]
        }
      ],
      "source": [
        "c1 = Child()\n",
        "c1.common1()\n",
        "c1.common()\n",
        "\n",
        "\n",
        "# to invoke inherited class method withod using super keyword outside the class\n",
        "Relative.swim(c1) # object is created for child using that obj we are invoking inherited class\n"
      ]
    },
    {
      "cell_type": "code",
      "execution_count": null,
      "metadata": {
        "colab": {
          "base_uri": "https://localhost:8080/"
        },
        "id": "mmIzFGvz0aIH",
        "outputId": "5032ad20-7e83-4711-a89f-ac9a17ad3ec7"
      },
      "outputs": [
        {
          "name": "stdout",
          "output_type": "stream",
          "text": [
            "Initializing Parent with name: Alice\n",
            "Initializing Child with age: 5\n",
            "--------------------\n",
            "Hello from Parent, my name is Alice\n",
            "Also, I am 5 years old (from Child class)\n"
          ]
        }
      ],
      "source": [
        "# Define a simple Parent class\n",
        "class Parent:\n",
        "    def __init__(self, name):\n",
        "        print(f\"Initializing Parent with name: {name}\")\n",
        "        self.name = name\n",
        "\n",
        "    def greet(self):\n",
        "        print(f\"Hello from Parent, my name is {self.name}\")\n",
        "\n",
        "# Define a Child class that inherits from Parent\n",
        "class Child(Parent):\n",
        "    def __init__(self, name, age):\n",
        "        # --- This is where super() is commonly used! ---\n",
        "        # Call the parent's __init__ method to initialize the 'name' attribute\n",
        "        # super() here refers to the Parent class for this instance\n",
        "        super().__init__(name)\n",
        "        # Now initialize attributes specific to the Child class\n",
        "        print(f\"Initializing Child with age: {age}\")\n",
        "        self.age = age\n",
        "\n",
        "    def greet(self):\n",
        "        # --- You can also call other parent methods ---\n",
        "        # Let the parent do its greeting first\n",
        "        super().greet()\n",
        "        # Then add something specific from the child\n",
        "        print(f\"Also, I am {self.age} years old (from Child class)\")\n",
        "\n",
        "# Create an instance of the Child class\n",
        "my_child = Child(\"Alice\", 5)\n",
        "\n",
        "print(\"-\" * 20)\n",
        "\n",
        "# Call the greet method on the child instance\n",
        "# This will execute the Child's greet method, which in turn calls the Parent's greet\n",
        "my_child.greet()\n"
      ]
    },
    {
      "cell_type": "code",
      "execution_count": 1,
      "metadata": {
        "colab": {
          "base_uri": "https://localhost:8080/"
        },
        "id": "U0YYigNo4xIj",
        "outputId": "71baab46-719a-4de2-9142-e0b15a670728"
      },
      "outputs": [
        {
          "name": "stdout",
          "output_type": "stream",
          "text": [
            "Manager: Escalated to me.\n",
            "Team Lead: Let me take over.\n",
            "Employee: I'll try to help.\n"
          ]
        }
      ],
      "source": [
        "## super() in multiple inheritence\n",
        "\n",
        "class Employee:\n",
        "    def handle_request(self):\n",
        "        print(\"Employee: I'll try to help.\")\n",
        "\n",
        "class TeamLead(Employee):\n",
        "    def handle_request(self):\n",
        "        print(\"Team Lead: Let me take over.\")\n",
        "        super(TeamLead, self).handle_request()\n",
        "\n",
        "class Manager(TeamLead):\n",
        "    def handle_request(self):\n",
        "        print(\"Manager: Escalated to me.\")\n",
        "        super(Manager, self).handle_request()\n",
        "\n",
        "# Start the chain\n",
        "request = Manager()\n",
        "request.handle_request()\n"
      ]
    },
    {
      "cell_type": "code",
      "execution_count": 7,
      "metadata": {
        "colab": {
          "base_uri": "https://localhost:8080/"
        },
        "id": "dFmMmN8O8czE",
        "outputId": "b4e9e7b6-0d3b-48e8-d21f-5d40497b42f5"
      },
      "outputs": [
        {
          "data": {
            "text/plain": [
              "[__main__.Manager, __main__.TeamLead, __main__.Employee, object]"
            ]
          },
          "execution_count": 7,
          "metadata": {},
          "output_type": "execute_result"
        }
      ],
      "source": [
        "## method resolution order\n",
        "Manager.mro()"
      ]
    },
    {
      "cell_type": "markdown",
      "metadata": {
        "id": "jjxge4jb4ydf"
      },
      "source": [
        "#Encapsulation\n",
        "\n",
        "### Hiding the object which is to be hidden"
      ]
    },
    {
      "cell_type": "code",
      "execution_count": 6,
      "metadata": {
        "colab": {
          "base_uri": "https://localhost:8080/"
        },
        "id": "Hz1yt1RciKwX",
        "outputId": "33a8de91-f57f-4e0e-8d69-12595070078f"
      },
      "outputs": [
        {
          "name": "stdout",
          "output_type": "stream",
          "text": [
            "ABC\n",
            "Kulasekharam\n",
            "1000000\n"
          ]
        }
      ],
      "source": [
        "class School:\n",
        "\n",
        "  def __init__(self):\n",
        "    self.name = 'ABC'\n",
        "    self.place = 'Kulasekharam'\n",
        "    self.revenue = 1000000\n",
        "\n",
        "\n",
        "  school1 = School()\n",
        "  print(school1.name)\n",
        "  print(school1.place)\n",
        "  print(school1.revenue)\n"
      ]
    },
    {
      "cell_type": "code",
      "execution_count": 9,
      "metadata": {
        "colab": {
          "base_uri": "https://localhost:8080/",
          "height": 332
        },
        "id": "KDww4iLC5mZr",
        "outputId": "7ee14e82-2b77-474c-f990-c5b90b276d78"
      },
      "outputs": [
        {
          "name": "stdout",
          "output_type": "stream",
          "text": [
            "ABC\n",
            "Kulasekharam\n"
          ]
        },
        {
          "ename": "AttributeError",
          "evalue": "'School' object has no attribute 'revenue'",
          "output_type": "error",
          "traceback": [
            "\u001b[0;31m---------------------------------------------------------------------------\u001b[0m",
            "\u001b[0;31mAttributeError\u001b[0m                            Traceback (most recent call last)",
            "\u001b[0;32m<ipython-input-9-e3b6157bddbf>\u001b[0m in \u001b[0;36m<cell line: 0>\u001b[0;34m()\u001b[0m\n\u001b[0;32m----> 1\u001b[0;31m \u001b[0;32mclass\u001b[0m \u001b[0mSchool\u001b[0m\u001b[0;34m:\u001b[0m\u001b[0;34m\u001b[0m\u001b[0;34m\u001b[0m\u001b[0m\n\u001b[0m\u001b[1;32m      2\u001b[0m \u001b[0;34m\u001b[0m\u001b[0m\n\u001b[1;32m      3\u001b[0m   \u001b[0;32mdef\u001b[0m \u001b[0m__init__\u001b[0m\u001b[0;34m(\u001b[0m\u001b[0mself\u001b[0m\u001b[0;34m)\u001b[0m\u001b[0;34m:\u001b[0m\u001b[0;34m\u001b[0m\u001b[0;34m\u001b[0m\u001b[0m\n\u001b[1;32m      4\u001b[0m     \u001b[0mself\u001b[0m\u001b[0;34m.\u001b[0m\u001b[0mname\u001b[0m \u001b[0;34m=\u001b[0m \u001b[0;34m'ABC'\u001b[0m\u001b[0;34m\u001b[0m\u001b[0;34m\u001b[0m\u001b[0m\n\u001b[1;32m      5\u001b[0m     \u001b[0mself\u001b[0m\u001b[0;34m.\u001b[0m\u001b[0mplace\u001b[0m \u001b[0;34m=\u001b[0m \u001b[0;34m'Kulasekharam'\u001b[0m\u001b[0;34m\u001b[0m\u001b[0;34m\u001b[0m\u001b[0m\n",
            "\u001b[0;32m<ipython-input-9-e3b6157bddbf>\u001b[0m in \u001b[0;36mSchool\u001b[0;34m()\u001b[0m\n\u001b[1;32m     10\u001b[0m   \u001b[0mprint\u001b[0m\u001b[0;34m(\u001b[0m\u001b[0mschool1\u001b[0m\u001b[0;34m.\u001b[0m\u001b[0mname\u001b[0m\u001b[0;34m)\u001b[0m\u001b[0;34m\u001b[0m\u001b[0;34m\u001b[0m\u001b[0m\n\u001b[1;32m     11\u001b[0m   \u001b[0mprint\u001b[0m\u001b[0;34m(\u001b[0m\u001b[0mschool1\u001b[0m\u001b[0;34m.\u001b[0m\u001b[0mplace\u001b[0m\u001b[0;34m)\u001b[0m\u001b[0;34m\u001b[0m\u001b[0;34m\u001b[0m\u001b[0m\n\u001b[0;32m---> 12\u001b[0;31m   \u001b[0mprint\u001b[0m\u001b[0;34m(\u001b[0m\u001b[0mschool1\u001b[0m\u001b[0;34m.\u001b[0m\u001b[0mrevenue\u001b[0m\u001b[0;34m)\u001b[0m\u001b[0;34m\u001b[0m\u001b[0;34m\u001b[0m\u001b[0m\n\u001b[0m",
            "\u001b[0;31mAttributeError\u001b[0m: 'School' object has no attribute 'revenue'"
          ]
        }
      ],
      "source": [
        "class School:\n",
        "\n",
        "  def __init__(self):\n",
        "    self.name = 'ABC'\n",
        "    self.place = 'Kulasekharam'\n",
        "    self.__revenue = 1000000 ## adding __ in attribute makes it as private\n",
        "\n",
        "\n",
        "  school1 = School()\n",
        "  print(school1.name)\n",
        "  print(school1.place)\n",
        "  print(school1.revenue) # we cant able to access a private attribute"
      ]
    },
    {
      "cell_type": "code",
      "execution_count": 17,
      "metadata": {
        "id": "v-PleWRw55QY"
      },
      "outputs": [],
      "source": []
    },
    {
      "cell_type": "code",
      "execution_count": 15,
      "metadata": {
        "id": "Ut5M44qs6TvY"
      },
      "outputs": [],
      "source": [
        "class School:\n",
        "\n",
        "  def __init__(self):\n",
        "    self.name = 'ABC'\n",
        "    self.place = 'Kulasekharam'\n",
        "    self.__revenue = 1000000 ## adding __ in attribute makes it as private\n",
        "\n",
        "  def SchoolRevenue(self):\n",
        "    print(self.__revenue) # way to accesss a private attribute\n",
        "\n",
        "\n"
      ]
    },
    {
      "cell_type": "code",
      "execution_count": 17,
      "metadata": {
        "colab": {
          "base_uri": "https://localhost:8080/"
        },
        "id": "GjdoLdML6wM1",
        "outputId": "f2af56f2-5a3b-4599-e936-b72a1f990746"
      },
      "outputs": [
        {
          "name": "stdout",
          "output_type": "stream",
          "text": [
            "1000000\n",
            "None\n"
          ]
        }
      ],
      "source": [
        "  school1 = School()\n",
        "  print(school1.SchoolRevenue())"
      ]
    },
    {
      "cell_type": "code",
      "execution_count": 8,
      "metadata": {
        "id": "9B6_EKWJ6zNc"
      },
      "outputs": [],
      "source": [
        "class BankAccount:\n",
        "    def __init__(self, owner, balance):\n",
        "        self.owner = owner\n",
        "        self.__balance = balance  # Private variable\n",
        "\n",
        "    def deposit(self, amount):\n",
        "        if amount > 0:\n",
        "            self.__balance += amount\n",
        "\n",
        "    def withdraw(self, amount):\n",
        "        if 0 < amount <= self.__balance:\n",
        "            self.__balance -= amount\n",
        "        else:\n",
        "            print(\"Insufficient balance!\")\n",
        "\n",
        "    def get_balance(self):\n",
        "        return self.__balance\n"
      ]
    },
    {
      "cell_type": "code",
      "execution_count": 10,
      "metadata": {
        "colab": {
          "base_uri": "https://localhost:8080/"
        },
        "id": "QGJwgYGPBudw",
        "outputId": "dfcfad67-de68-482f-9f7a-419a5c6b20fc"
      },
      "outputs": [
        {
          "name": "stdout",
          "output_type": "stream",
          "text": [
            "1500\n",
            "1200\n"
          ]
        }
      ],
      "source": [
        "account = BankAccount(\"Abi\", 1000)\n",
        "\n",
        "account.deposit(500)\n",
        "print(account.get_balance())   # 1500\n",
        "\n",
        "account.withdraw(300)\n",
        "print(account.get_balance())   # 1200\n"
      ]
    },
    {
      "cell_type": "code",
      "execution_count": 11,
      "metadata": {
        "id": "AucXsOIgB12e"
      },
      "outputs": [],
      "source": [
        "## example for protedted\n",
        "class Employee:\n",
        "    def __init__(self, name, salary):\n",
        "        self.name = name\n",
        "        self._salary = salary  # Protected attribute\n",
        "\n",
        "    def show_info(self):\n",
        "        print(f\"Name: {self.name}, Salary: {self._salary}\")\n",
        "\n",
        "class Manager(Employee):\n",
        "    def __init__(self, name, salary, bonus):\n",
        "        super().__init__(name, salary)\n",
        "        self._bonus = bonus  # Also protected\n",
        "\n",
        "    def total_compensation(self):\n",
        "        return self._salary + self._bonus\n"
      ]
    },
    {
      "cell_type": "code",
      "execution_count": 12,
      "metadata": {
        "colab": {
          "base_uri": "https://localhost:8080/"
        },
        "id": "cJrmbrgPCR7T",
        "outputId": "6540c310-05d4-47cd-f992-144721a86b28"
      },
      "outputs": [
        {
          "name": "stdout",
          "output_type": "stream",
          "text": [
            "Name: Bob, Salary: 80000\n",
            "90000\n",
            "80000\n"
          ]
        }
      ],
      "source": [
        "m = Manager(\"Bob\", 80000, 10000)\n",
        "\n",
        "m.show_info()                 #  Access through method\n",
        "print(m.total_compensation()) # Uses protected _salary and _bonus\n",
        "\n",
        "print(m._salary)              # Technically allowed but discouraged\n"
      ]
    },
    {
      "cell_type": "markdown",
      "metadata": {
        "id": "m6CBR49TlJQc"
      },
      "source": [
        "## Getter Setter"
      ]
    },
    {
      "cell_type": "code",
      "execution_count": 23,
      "metadata": {
        "id": "HWDyjNz4CWDP"
      },
      "outputs": [],
      "source": [
        "class person:\n",
        "  def  __init__(self):\n",
        "    self.__name = None # private variablee\n",
        "\n",
        "  def SetName(self,value): # setter method to set value for __name since we can't do directly\n",
        "    if len(value) <= 2:\n",
        "      print(\"Provide appropriate name having character length more than 2\")\n",
        "    elif len(value) > 20:\n",
        "      print(\"Provide appropriate name having character length less than 20\")\n",
        "    else:\n",
        "      self.__name = value\n",
        "\n",
        "  def GetName(self):\n",
        "    if self.__name == None:\n",
        "      print(\"Name is not set\")\n",
        "    return self.__name # getter method to access variable"
      ]
    },
    {
      "cell_type": "code",
      "execution_count": 25,
      "metadata": {
        "colab": {
          "base_uri": "https://localhost:8080/"
        },
        "id": "AxF3LY4EmDKj",
        "outputId": "a69b0863-162a-438a-f8c8-ca676f901bc7"
      },
      "outputs": [
        {
          "name": "stdout",
          "output_type": "stream",
          "text": [
            "Provide appropriate name having character length less than 20\n",
            "Provide appropriate name having character length more than 2\n",
            "Name is not set\n"
          ]
        }
      ],
      "source": [
        "obj = person()\n",
        "obj.SetName(\"abmnsdclkwmclewkplckeckepcdkp'ewscfkpesa\")\n",
        "obj.SetName('ab')\n",
        "obj.GetName()\n"
      ]
    },
    {
      "cell_type": "markdown",
      "metadata": {
        "id": "xzTMMtE2nzuy"
      },
      "source": [
        "## @property and @setter decorators"
      ]
    },
    {
      "cell_type": "code",
      "execution_count": 26,
      "metadata": {
        "id": "KaME0evUmFo7"
      },
      "outputs": [],
      "source": [
        "class person:\n",
        "  def  __init__(self):\n",
        "    self.__name = None # private variable\n",
        "\n",
        "\n",
        "  @property #property decorator is used to make a method as getter\n",
        "  def name(self):\n",
        "    if self.__name == None:\n",
        "      print(\"Name is not set\")\n",
        "    return self.__name # getter method to access variable\n",
        "\n",
        "  @name.setter  # name.setter decorator denotes that it is a setter for the name method decorated with @property\n",
        "  def name(self,value): # setter method to set value for __name since we can't do directly\n",
        "    if len(value) <= 2:\n",
        "      print(\"Provide appropriate name having character length more than 2\")\n",
        "    elif len(value) > 20:\n",
        "      print(\"Provide appropriate name having character length less than 20\")\n",
        "    else:\n",
        "      self.__name = value\n",
        "\n"
      ]
    },
    {
      "cell_type": "code",
      "execution_count": 27,
      "metadata": {
        "colab": {
          "base_uri": "https://localhost:8080/",
          "height": 36
        },
        "id": "wZ0nn07ZpVXK",
        "outputId": "aa4d8f72-21d0-4618-f839-0ed9354e783c"
      },
      "outputs": [
        {
          "data": {
            "application/vnd.google.colaboratory.intrinsic+json": {
              "type": "string"
            },
            "text/plain": [
              "'Abishek'"
            ]
          },
          "execution_count": 27,
          "metadata": {},
          "output_type": "execute_result"
        }
      ],
      "source": [
        "person = person()\n",
        "person.name = \"Abishek\"\n",
        "person.name"
      ]
    },
    {
      "cell_type": "markdown",
      "metadata": {
        "id": "lOH_inWso5Jt"
      },
      "source": [
        "Here setter, getter  methods and variable have the same variable name(name)\n",
        "\n",
        "We use in this way because we dont have to initialize a method to set name\n",
        "\n",
        "Here the name method will act as a variable"
      ]
    },
    {
      "cell_type": "code",
      "execution_count": null,
      "metadata": {
        "id": "rEbBgBJdpETP"
      },
      "outputs": [],
      "source": [
        "class abc:\n",
        "\n",
        "  def __init__(self):\n",
        "    self.__age = None\n",
        "\n",
        "  @property\n",
        "  def age(self):\n",
        "    if self.__age == None:\n",
        "      print(\"Age is not set\")\n",
        "    return self.__age\n",
        "\n",
        "  @age.setter\n",
        "  def age(self,value):\n",
        "    if value < 0:\n",
        "      print(\"Age cannot be negative\")\n",
        "    if value > 100:\n",
        "      print(\"Age cannot be more than 100\")\n",
        "    else:\n",
        "      self.__age = value"
      ]
    },
    {
      "cell_type": "code",
      "execution_count": 39,
      "metadata": {
        "colab": {
          "base_uri": "https://localhost:8080/"
        },
        "id": "BIvSFGgMmIgw",
        "outputId": "b8f72c92-8f55-4bcf-8bf4-306ef70d6ef1"
      },
      "outputs": [
        {
          "name": "stdout",
          "output_type": "stream",
          "text": [
            "Age cannot be negative\n"
          ]
        },
        {
          "data": {
            "text/plain": [
              "-2"
            ]
          },
          "execution_count": 39,
          "metadata": {},
          "output_type": "execute_result"
        }
      ],
      "source": [
        "obj = abc()\n",
        "obj.age = -2 # insted of setting value in age() method we are using the age() method as a variable using @property and @setter decorators\n",
        "obj.age\n"
      ]
    },
    {
      "cell_type": "code",
      "execution_count": null,
      "metadata": {
        "id": "LJEe3Sq5qiUu"
      },
      "outputs": [],
      "source": []
    }
  ],
  "metadata": {
    "colab": {
      "provenance": []
    },
    "kernelspec": {
      "display_name": "Python 3",
      "name": "python3"
    },
    "language_info": {
      "name": "python"
    }
  },
  "nbformat": 4,
  "nbformat_minor": 0
}
